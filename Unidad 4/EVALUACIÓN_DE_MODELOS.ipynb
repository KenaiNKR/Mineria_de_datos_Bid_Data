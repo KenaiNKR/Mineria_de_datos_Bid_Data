{
  "nbformat": 4,
  "nbformat_minor": 0,
  "metadata": {
    "colab": {
      "provenance": []
    },
    "kernelspec": {
      "name": "python3",
      "display_name": "Python 3"
    },
    "language_info": {
      "name": "python"
    }
  },
  "cells": [
    {
      "cell_type": "markdown",
      "source": [
        "##EVALUACIÓN DE MODELOS\n",
        "La evaluación de modelos en minería de datos es crucial para entender cómo se comporta un modelo y qué tan bien generaliza a datos no vistos."
      ],
      "metadata": {
        "id": "vVfheBR6rGqK"
      }
    },
    {
      "cell_type": "code",
      "execution_count": 2,
      "metadata": {
        "id": "UGoxWV0iq9A5"
      },
      "outputs": [],
      "source": [
        "# Importar bibliotecas necesarias\n",
        "import pandas as pd\n",
        "import numpy as np\n",
        "from sklearn.metrics import mean_squared_error, mean_absolute_error, r2_score\n",
        "from sklearn.model_selection import train_test_split\n",
        "from sklearn.linear_model import LinearRegression\n",
        "import matplotlib.pyplot as plt\n",
        "import seaborn as sns# Importar bibliotecas necesarias\n",
        "import pandas as pd\n",
        "import numpy as np\n",
        "from sklearn.metrics import mean_squared_error, mean_absolute_error, r2_score\n",
        "from sklearn.model_selection import train_test_split\n",
        "from sklearn.linear_model import LinearRegression\n",
        "import matplotlib.pyplot as plt\n",
        "import seaborn as sns"
      ]
    },
    {
      "cell_type": "code",
      "source": [
        "# Datos de ejemplo\n",
        "df_estudiantes = [\n",
        "    {\"cedula\": \"0106605017\", \"nombre\": \"Carlos Astudillo\", \"asignatura\": \"Minería de Datos\", \"nota_final\": 9.4},\n",
        "    {\"cedula\": \"0106605017\", \"nombre\": \"Carlos Astudillo\", \"asignatura\": \"Inteligencia de Negocios\", \"nota_final\": 8.05},\n",
        "    {\"cedula\": \"0106605017\", \"nombre\": \"Carlos Astudillo\", \"asignatura\": \"Aprendizaje Profundo\", \"nota_final\": 8.71},\n",
        "\n",
        "    {\"cedula\": \"0302365440\", \"nombre\": \"Jonnathan Astudillo\", \"asignatura\": \"Minería de Datos\", \"nota_final\": 9.17},\n",
        "    {\"cedula\": \"0302365440\", \"nombre\": \"Jonnathan Astudillo\", \"asignatura\": \"Inteligencia de Negocios\", \"nota_final\": 8.55},\n",
        "    {\"cedula\": \"0302365440\", \"nombre\": \"Jonnathan Astudillo\", \"asignatura\": \"Aprendizaje Profundo\", \"nota_final\": 7.64},\n",
        "    {\"cedula\": \"0302365440\", \"nombre\": \"Jonnathan Astudillo\", \"asignatura\": \"Emprendimiento\", \"nota_final\": 9.77},\n",
        "\n",
        "    {\"cedula\": \"0150564078\", \"nombre\": \"Danny Auquilla\", \"asignatura\": \"Minería de Datos\", \"nota_final\": 8.53},\n",
        "    {\"cedula\": \"0150564078\", \"nombre\": \"Danny Auquilla\", \"asignatura\": \"Aprendizaje Profundo\", \"nota_final\": 5.64},\n",
        "    {\"cedula\": \"0150564078\", \"nombre\": \"Danny Auquilla\", \"asignatura\": \"Marcos de referencia\", \"nota_final\": 5.91},\n",
        "\n",
        "    {\"cedula\": \"0107973687\", \"nombre\": \"Victor Cabrera\", \"asignatura\": \"Minería de Datos\", \"nota_final\": 8.63},\n",
        "    {\"cedula\": \"0107973687\", \"nombre\": \"Victor Cabrera\", \"asignatura\": \"Inteligencia de Negocios\", \"nota_final\": 8.45},\n",
        "    {\"cedula\": \"0107973687\", \"nombre\": \"Victor Cabrera\", \"asignatura\": \"Aprendizaje Profundo\", \"nota_final\": 8.68},\n",
        "    {\"cedula\": \"0107973687\", \"nombre\": \"Victor Cabrera\", \"asignatura\": \"Marcos de referencia\", \"nota_final\": 8.79},\n",
        "    {\"cedula\": \"0107973687\", \"nombre\": \"Victor Cabrera\", \"asignatura\": \"Emprendimiento\", \"nota_final\": 9.11},\n",
        "    {\"cedula\": \"0107973687\", \"nombre\": \"Victor Cabrera\", \"asignatura\": \"Etica Profesional\", \"nota_final\": 8.4},\n",
        "\n",
        "    {\"cedula\": \"0107957144\", \"nombre\": \"Paula Gomez\", \"asignatura\": \"Minería de Datos\", \"nota_final\": 9.24},\n",
        "    {\"cedula\": \"0107957144\", \"nombre\": \"Paula Gomez\", \"asignatura\": \"Aprendizaje Profundo\", \"nota_final\": 9.08},\n",
        "\n",
        "    {\"cedula\": \"1401416993\", \"nombre\": \"Maicol Lojano\", \"asignatura\": \"Minería de Datos\", \"nota_final\": 9.24},\n",
        "    {\"cedula\": \"1401416993\", \"nombre\": \"Maicol Lojano\", \"asignatura\": \"Inteligencia de Negocios\", \"nota_final\": 8.85},\n",
        "    {\"cedula\": \"1401416993\", \"nombre\": \"Maicol Lojano\", \"asignatura\": \"Aprendizaje Profundo\", \"nota_final\": 9.06},\n",
        "    {\"cedula\": \"1401416993\", \"nombre\": \"Maicol Lojano\", \"asignatura\": \"Marcos de referencia\", \"nota_final\": 9.32},\n",
        "\n",
        "    {\"cedula\": \"0107416927\", \"nombre\": \"Jose Muños\", \"asignatura\": \"Minería de Datos\", \"nota_final\": 9.71},\n",
        "    {\"cedula\": \"0107416927\", \"nombre\": \"Jose Muños\", \"asignatura\": \"Aprendizaje Profundo\", \"nota_final\": 9.08},\n",
        "\n",
        "    {\"cedula\": \"0107915126\", \"nombre\": \"Danny Pineda\", \"asignatura\": \"Minería de Datos\", \"nota_final\": 8.74},\n",
        "    {\"cedula\": \"0107915126\", \"nombre\": \"Danny Pineda\", \"asignatura\": \"Inteligencia de Negocios\", \"nota_final\": 8.85},\n",
        "    {\"cedula\": \"0107915126\", \"nombre\": \"Danny Pineda\", \"asignatura\": \"Aprendizaje Profundo\", \"nota_final\": 8.39},\n",
        "\n",
        "    {\"cedula\": \"0106422496\", \"nombre\": \"Paul Rodriguez\", \"asignatura\": \"Minería de Datos\", \"nota_final\": 9.28},\n",
        "    {\"cedula\": \"0106422496\", \"nombre\": \"Paul Rodriguez\", \"asignatura\": \"Inteligencia de Negocios\", \"nota_final\": 8.91},\n",
        "    {\"cedula\": \"0106422496\", \"nombre\": \"Paul Rodriguez\", \"asignatura\": \"Aprendizaje Profundo\", \"nota_final\": 8.25},\n",
        "    {\"cedula\": \"0106422496\", \"nombre\": \"Paul Rodriguez\", \"asignatura\": \"Marcos de referencia\", \"nota_final\": 9.15},\n",
        "    {\"cedula\": \"0106422496\", \"nombre\": \"Paul Rodriguez\", \"asignatura\": \"Emprendimiento\", \"nota_final\": 9.13},\n",
        "\n",
        "    {\"cedula\": \"0105467815\", \"nombre\": \"Ariel Saquicela\", \"asignatura\": \"Minería de Datos\", \"nota_final\": 9.28},\n",
        "    {\"cedula\": \"0105467815\", \"nombre\": \"Ariel Saquicela\", \"asignatura\": \"Inteligencia de Negocios\", \"nota_final\": 8.91},\n",
        "    {\"cedula\": \"0105467815\", \"nombre\": \"Ariel Saquicela\", \"asignatura\": \"Aprendizaje Profundo\", \"nota_final\": 8.35},\n",
        "    {\"cedula\": \"0105467815\", \"nombre\": \"Ariel Saquicela\", \"asignatura\": \"Marcos de referencia\", \"nota_final\": 6.17},\n",
        "    {\"cedula\": \"0105467815\", \"nombre\": \"Ariel Saquicela\", \"asignatura\": \"Emprendimiento\", \"nota_final\": 6.08},\n",
        "    {\"cedula\": \"0105467815\", \"nombre\": \"Ariel Saquicela\", \"asignatura\": \"Etica Profesional\", \"nota_final\": 10.00}\n",
        "]\n",
        "\n",
        "# Creación del DataFrame\n",
        "df_estudiantes = pd.DataFrame(df_estudiantes)\n",
        "\n",
        "# Mostrar el DataFrame\n",
        "print(df_estudiantes)"
      ],
      "metadata": {
        "colab": {
          "base_uri": "https://localhost:8080/"
        },
        "id": "R5iaDXc1ZhDw",
        "outputId": "56f6a16b-4765-432a-c80d-cd4ae2ff9ad4"
      },
      "execution_count": 10,
      "outputs": [
        {
          "output_type": "stream",
          "name": "stdout",
          "text": [
            "        cedula               nombre                asignatura  nota_final\n",
            "0   0106605017     Carlos Astudillo          Minería de Datos        9.40\n",
            "1   0106605017     Carlos Astudillo  Inteligencia de Negocios        8.05\n",
            "2   0106605017     Carlos Astudillo      Aprendizaje Profundo        8.71\n",
            "3   0302365440  Jonnathan Astudillo          Minería de Datos        9.17\n",
            "4   0302365440  Jonnathan Astudillo  Inteligencia de Negocios        8.55\n",
            "5   0302365440  Jonnathan Astudillo      Aprendizaje Profundo        7.64\n",
            "6   0302365440  Jonnathan Astudillo            Emprendimiento        9.77\n",
            "7   0150564078       Danny Auquilla          Minería de Datos        8.53\n",
            "8   0150564078       Danny Auquilla      Aprendizaje Profundo        5.64\n",
            "9   0150564078       Danny Auquilla      Marcos de referencia        5.91\n",
            "10  0107973687       Victor Cabrera          Minería de Datos        8.63\n",
            "11  0107973687       Victor Cabrera  Inteligencia de Negocios        8.45\n",
            "12  0107973687       Victor Cabrera      Aprendizaje Profundo        8.68\n",
            "13  0107973687       Victor Cabrera      Marcos de referencia        8.79\n",
            "14  0107973687       Victor Cabrera            Emprendimiento        9.11\n",
            "15  0107973687       Victor Cabrera         Etica Profesional        8.40\n",
            "16  0107957144          Paula Gomez          Minería de Datos        9.24\n",
            "17  0107957144          Paula Gomez      Aprendizaje Profundo        9.08\n",
            "18  1401416993        Maicol Lojano          Minería de Datos        9.24\n",
            "19  1401416993        Maicol Lojano  Inteligencia de Negocios        8.85\n",
            "20  1401416993        Maicol Lojano      Aprendizaje Profundo        9.06\n",
            "21  1401416993        Maicol Lojano      Marcos de referencia        9.32\n",
            "22  0107416927           Jose Muños          Minería de Datos        9.71\n",
            "23  0107416927           Jose Muños      Aprendizaje Profundo        9.08\n",
            "24  0107915126         Danny Pineda          Minería de Datos        8.74\n",
            "25  0107915126         Danny Pineda  Inteligencia de Negocios        8.85\n",
            "26  0107915126         Danny Pineda      Aprendizaje Profundo        8.39\n",
            "27  0106422496       Paul Rodriguez          Minería de Datos        9.28\n",
            "28  0106422496       Paul Rodriguez  Inteligencia de Negocios        8.91\n",
            "29  0106422496       Paul Rodriguez      Aprendizaje Profundo        8.25\n",
            "30  0106422496       Paul Rodriguez      Marcos de referencia        9.15\n",
            "31  0106422496       Paul Rodriguez            Emprendimiento        9.13\n",
            "32  0105467815      Ariel Saquicela          Minería de Datos        9.28\n",
            "33  0105467815      Ariel Saquicela  Inteligencia de Negocios        8.91\n",
            "34  0105467815      Ariel Saquicela      Aprendizaje Profundo        8.35\n",
            "35  0105467815      Ariel Saquicela      Marcos de referencia        6.17\n",
            "36  0105467815      Ariel Saquicela            Emprendimiento        6.08\n",
            "37  0105467815      Ariel Saquicela         Etica Profesional       10.00\n"
          ]
        }
      ]
    },
    {
      "cell_type": "code",
      "source": [
        "# Datos de ejemplo para diagnostico\n",
        "df_diagnostico = [\n",
        "    {\"cedula\": \"0106605017\", \"nombre\": \"Carlos Astudillo\", \"asignatura\": \"Minería de Datos\", \"nota_diagnostico\": 8},\n",
        "    {\"cedula\": \"0106605017\", \"nombre\": \"Carlos Astudillo\", \"asignatura\": \"Inteligencia de Negocios\", \"nota_diagnostico\": 6},\n",
        "    {\"cedula\": \"0106605017\", \"nombre\": \"Carlos Astudillo\", \"asignatura\": \"Aprendizaje Profundo\", \"nota_diagnostico\": 5.43},\n",
        "\n",
        "    {\"cedula\": \"0302365440\", \"nombre\": \"Jonnathan Astudillo\", \"asignatura\": \"Minería de Datos\", \"nota_diagnostico\": 0.0},\n",
        "    {\"cedula\": \"0302365440\", \"nombre\": \"Jonnathan Astudillo\", \"asignatura\": \"Inteligencia de Negocios\", \"nota_diagnostico\": 0.0},\n",
        "    {\"cedula\": \"0302365440\", \"nombre\": \"Jonnathan Astudillo\", \"asignatura\": \"Aprendizaje Profundo\", \"nota_diagnostico\": 0.0},\n",
        "    {\"cedula\": \"0302365440\", \"nombre\": \"Jonnathan Astudillo\", \"asignatura\": \"Emprendimiento\", \"nota_diagnostico\": 0.0},\n",
        "\n",
        "    {\"cedula\": \"0150564078\", \"nombre\": \"Danny Auquilla\", \"asignatura\": \"Minería de Datos\", \"nota_diagnostico\": 0.0},\n",
        "    {\"cedula\": \"0150564078\", \"nombre\": \"Danny Auquilla\", \"asignatura\": \"Aprendizaje Profundo\", \"nota_diagnostico\": 0.0},\n",
        "    {\"cedula\": \"0150564078\", \"nombre\": \"Danny Auquilla\", \"asignatura\": \"Marcos de referencia\", \"nota_diagnostico\": 3.89},\n",
        "\n",
        "    {\"cedula\": \"0107973687\", \"nombre\": \"Victor Cabrera\", \"asignatura\": \"Minería de Datos\", \"nota_diagnostico\": 8.00},\n",
        "    {\"cedula\": \"0107973687\", \"nombre\": \"Victor Cabrera\", \"asignatura\": \"Inteligencia de Negocios\", \"nota_diagnostico\": 0.00},\n",
        "    {\"cedula\": \"0107973687\", \"nombre\": \"Victor Cabrera\", \"asignatura\": \"Aprendizaje Profundo\", \"nota_diagnostico\": 5.22},\n",
        "    {\"cedula\": \"0107973687\", \"nombre\": \"Victor Cabrera\", \"asignatura\": \"Marcos de referencia\", \"nota_diagnostico\": 5.50},\n",
        "    {\"cedula\": \"0107973687\", \"nombre\": \"Victor Cabrera\", \"asignatura\": \"Emprendimiento\", \"nota_diagnostico\": 0.0},\n",
        "    {\"cedula\": \"0107973687\", \"nombre\": \"Victor Cabrera\", \"asignatura\": \"Etica Profesional\", \"nota_diagnostico\": 10},\n",
        "\n",
        "    {\"cedula\": \"0107957144\", \"nombre\": \"Paula Gomez\", \"asignatura\": \"Minería de Datos\", \"nota_diagnostico\": 0.0},\n",
        "    {\"cedula\": \"0107957144\", \"nombre\": \"Paula Gomez\", \"asignatura\": \"Aprendizaje Profundo\", \"nota_diagnostico\": 5.55},\n",
        "\n",
        "    {\"cedula\": \"1401416993\", \"nombre\": \"Maicol Lojano\", \"asignatura\": \"Minería de Datos\", \"nota_diagnostico\": 8},\n",
        "    {\"cedula\": \"1401416993\", \"nombre\": \"Maicol Lojano\", \"asignatura\": \"Inteligencia de Negocios\", \"nota_diagnostico\": 8},\n",
        "    {\"cedula\": \"1401416993\", \"nombre\": \"Maicol Lojano\", \"asignatura\": \"Aprendizaje Profundo\", \"nota_diagnostico\": 5.42},\n",
        "    {\"cedula\": \"1401416993\", \"nombre\": \"Maicol Lojano\", \"asignatura\": \"Marcos de referencia\", \"nota_diagnostico\": 5.07},\n",
        "\n",
        "    {\"cedula\": \"0107416927\", \"nombre\": \"Jose Muños\", \"asignatura\": \"Minería de Datos\", \"nota_diagnostico\": 0.0},\n",
        "    {\"cedula\": \"0107416927\", \"nombre\": \"Jose Muños\", \"asignatura\": \"Aprendizaje Profundo\", \"nota_diagnostico\": 4.42},\n",
        "\n",
        "    {\"cedula\": \"0107915126\", \"nombre\": \"Danny Pineda\", \"asignatura\": \"Minería de Datos\", \"nota_diagnostico\": 10},\n",
        "    {\"cedula\": \"0107915126\", \"nombre\": \"Danny Pineda\", \"asignatura\": \"Inteligencia de Negocios\", \"nota_diagnostico\": 6},\n",
        "    {\"cedula\": \"0107915126\", \"nombre\": \"Danny Pineda\", \"asignatura\": \"Aprendizaje Profundo\", \"nota_diagnostico\": 4.89},\n",
        "\n",
        "    {\"cedula\": \"0106422496\", \"nombre\": \"Paul Rodriguez\", \"asignatura\": \"Minería de Datos\", \"nota_diagnostico\": 8},\n",
        "    {\"cedula\": \"0106422496\", \"nombre\": \"Paul Rodriguez\", \"asignatura\": \"Inteligencia de Negocios\", \"nota_diagnostico\": 9},\n",
        "    {\"cedula\": \"0106422496\", \"nombre\": \"Paul Rodriguez\", \"asignatura\": \"Aprendizaje Profundo\", \"nota_diagnostico\": 6.40},\n",
        "    {\"cedula\": \"0106422496\", \"nombre\": \"Paul Rodriguez\", \"asignatura\": \"Marcos de referencia\", \"nota_diagnostico\": 6.53},\n",
        "    {\"cedula\": \"0106422496\", \"nombre\": \"Paul Rodriguez\", \"asignatura\": \"Emprendimiento\", \"nota_diagnostico\": 5},\n",
        "\n",
        "    {\"cedula\": \"0105467815\", \"nombre\": \"Ariel Saquicela\", \"asignatura\": \"Minería de Datos\", \"nota_diagnostico\": 10},\n",
        "    {\"cedula\": \"0105467815\", \"nombre\": \"Ariel Saquicela\", \"asignatura\": \"Inteligencia de Negocios\", \"nota_diagnostico\": 9},\n",
        "    {\"cedula\": \"0105467815\", \"nombre\": \"Ariel Saquicela\", \"asignatura\": \"Aprendizaje Profundo\", \"nota_diagnostico\": 6.27},\n",
        "    {\"cedula\": \"0105467815\", \"nombre\": \"Ariel Saquicela\", \"asignatura\": \"Marcos de referencia\", \"nota_diagnostico\": 7},\n",
        "    {\"cedula\": \"0105467815\", \"nombre\": \"Ariel Saquicela\", \"asignatura\": \"Emprendimiento\", \"nota_diagnostico\": 3},\n",
        "    {\"cedula\": \"0105467815\", \"nombre\": \"Ariel Saquicela\", \"asignatura\": \"Etica Profesional\", \"nota_diagnostico\": 10.00}\n",
        "]\n",
        "\n",
        "# Creación del DataFrame diagnostico\n",
        "df_diagnostico = pd.DataFrame(df_diagnostico)\n",
        "\n",
        "# Mostrar el DataFrame diagnostico\n",
        "print(df_diagnostico)"
      ],
      "metadata": {
        "colab": {
          "base_uri": "https://localhost:8080/"
        },
        "id": "LrlwKkrCbODh",
        "outputId": "d3269531-2c8c-42a4-a8a7-b644d80675cd"
      },
      "execution_count": 12,
      "outputs": [
        {
          "output_type": "stream",
          "name": "stdout",
          "text": [
            "        cedula               nombre                asignatura  \\\n",
            "0   0106605017     Carlos Astudillo          Minería de Datos   \n",
            "1   0106605017     Carlos Astudillo  Inteligencia de Negocios   \n",
            "2   0106605017     Carlos Astudillo      Aprendizaje Profundo   \n",
            "3   0302365440  Jonnathan Astudillo          Minería de Datos   \n",
            "4   0302365440  Jonnathan Astudillo  Inteligencia de Negocios   \n",
            "5   0302365440  Jonnathan Astudillo      Aprendizaje Profundo   \n",
            "6   0302365440  Jonnathan Astudillo            Emprendimiento   \n",
            "7   0150564078       Danny Auquilla          Minería de Datos   \n",
            "8   0150564078       Danny Auquilla      Aprendizaje Profundo   \n",
            "9   0150564078       Danny Auquilla      Marcos de referencia   \n",
            "10  0107973687       Victor Cabrera          Minería de Datos   \n",
            "11  0107973687       Victor Cabrera  Inteligencia de Negocios   \n",
            "12  0107973687       Victor Cabrera      Aprendizaje Profundo   \n",
            "13  0107973687       Victor Cabrera      Marcos de referencia   \n",
            "14  0107973687       Victor Cabrera            Emprendimiento   \n",
            "15  0107973687       Victor Cabrera         Etica Profesional   \n",
            "16  0107957144          Paula Gomez          Minería de Datos   \n",
            "17  0107957144          Paula Gomez      Aprendizaje Profundo   \n",
            "18  1401416993        Maicol Lojano          Minería de Datos   \n",
            "19  1401416993        Maicol Lojano  Inteligencia de Negocios   \n",
            "20  1401416993        Maicol Lojano      Aprendizaje Profundo   \n",
            "21  1401416993        Maicol Lojano      Marcos de referencia   \n",
            "22  0107416927           Jose Muños          Minería de Datos   \n",
            "23  0107416927           Jose Muños      Aprendizaje Profundo   \n",
            "24  0107915126         Danny Pineda          Minería de Datos   \n",
            "25  0107915126         Danny Pineda  Inteligencia de Negocios   \n",
            "26  0107915126         Danny Pineda      Aprendizaje Profundo   \n",
            "27  0106422496       Paul Rodriguez          Minería de Datos   \n",
            "28  0106422496       Paul Rodriguez  Inteligencia de Negocios   \n",
            "29  0106422496       Paul Rodriguez      Aprendizaje Profundo   \n",
            "30  0106422496       Paul Rodriguez      Marcos de referencia   \n",
            "31  0106422496       Paul Rodriguez            Emprendimiento   \n",
            "32  0105467815      Ariel Saquicela          Minería de Datos   \n",
            "33  0105467815      Ariel Saquicela  Inteligencia de Negocios   \n",
            "34  0105467815      Ariel Saquicela      Aprendizaje Profundo   \n",
            "35  0105467815      Ariel Saquicela      Marcos de referencia   \n",
            "36  0105467815      Ariel Saquicela            Emprendimiento   \n",
            "37  0105467815      Ariel Saquicela         Etica Profesional   \n",
            "\n",
            "    nota_diagnostico  \n",
            "0               8.00  \n",
            "1               6.00  \n",
            "2               5.43  \n",
            "3               0.00  \n",
            "4               0.00  \n",
            "5               0.00  \n",
            "6               0.00  \n",
            "7               0.00  \n",
            "8               0.00  \n",
            "9               3.89  \n",
            "10              8.00  \n",
            "11              0.00  \n",
            "12              5.22  \n",
            "13              5.50  \n",
            "14              0.00  \n",
            "15             10.00  \n",
            "16              0.00  \n",
            "17              5.55  \n",
            "18              8.00  \n",
            "19              8.00  \n",
            "20              5.42  \n",
            "21              5.07  \n",
            "22              0.00  \n",
            "23              4.42  \n",
            "24             10.00  \n",
            "25              6.00  \n",
            "26              4.89  \n",
            "27              8.00  \n",
            "28              9.00  \n",
            "29              6.40  \n",
            "30              6.53  \n",
            "31              5.00  \n",
            "32             10.00  \n",
            "33              9.00  \n",
            "34              6.27  \n",
            "35              7.00  \n",
            "36              3.00  \n",
            "37             10.00  \n"
          ]
        }
      ]
    },
    {
      "cell_type": "code",
      "source": [
        "# Datos de ejemplo\n",
        "df_final = [\n",
        "    {\"cedula\": \"0106605017\", \"nombre\": \"Carlos Astudillo\", \"asignatura\": \"Minería de Datos\", \"nota_final\": 9.4},\n",
        "    {\"cedula\": \"0106605017\", \"nombre\": \"Carlos Astudillo\", \"asignatura\": \"Inteligencia de Negocios\", \"nota_final\": 8.05},\n",
        "    {\"cedula\": \"0106605017\", \"nombre\": \"Carlos Astudillo\", \"asignatura\": \"Aprendizaje Profundo\", \"nota_final\": 8.71},\n",
        "\n",
        "    {\"cedula\": \"0302365440\", \"nombre\": \"Jonnathan Astudillo\", \"asignatura\": \"Minería de Datos\", \"nota_final\": 9.17},\n",
        "    {\"cedula\": \"0302365440\", \"nombre\": \"Jonnathan Astudillo\", \"asignatura\": \"Inteligencia de Negocios\", \"nota_final\": 8.55},\n",
        "    {\"cedula\": \"0302365440\", \"nombre\": \"Jonnathan Astudillo\", \"asignatura\": \"Aprendizaje Profundo\", \"nota_final\": 7.64},\n",
        "    {\"cedula\": \"0302365440\", \"nombre\": \"Jonnathan Astudillo\", \"asignatura\": \"Emprendimiento\", \"nota_final\": 9.77},\n",
        "\n",
        "    {\"cedula\": \"0150564078\", \"nombre\": \"Danny Auquilla\", \"asignatura\": \"Minería de Datos\", \"nota_final\": 8.53},\n",
        "    {\"cedula\": \"0150564078\", \"nombre\": \"Danny Auquilla\", \"asignatura\": \"Aprendizaje Profundo\", \"nota_final\": 5.64},\n",
        "    {\"cedula\": \"0150564078\", \"nombre\": \"Danny Auquilla\", \"asignatura\": \"Marcos de referencia\", \"nota_final\": 5.91},\n",
        "\n",
        "    {\"cedula\": \"0107973687\", \"nombre\": \"Victor Cabrera\", \"asignatura\": \"Minería de Datos\", \"nota_final\": 8.63},\n",
        "    {\"cedula\": \"0107973687\", \"nombre\": \"Victor Cabrera\", \"asignatura\": \"Inteligencia de Negocios\", \"nota_final\": 8.45},\n",
        "    {\"cedula\": \"0107973687\", \"nombre\": \"Victor Cabrera\", \"asignatura\": \"Aprendizaje Profundo\", \"nota_final\": 8.68},\n",
        "    {\"cedula\": \"0107973687\", \"nombre\": \"Victor Cabrera\", \"asignatura\": \"Marcos de referencia\", \"nota_final\": 8.79},\n",
        "    {\"cedula\": \"0107973687\", \"nombre\": \"Victor Cabrera\", \"asignatura\": \"Emprendimiento\", \"nota_final\": 9.11},\n",
        "    {\"cedula\": \"0107973687\", \"nombre\": \"Victor Cabrera\", \"asignatura\": \"Etica Profesional\", \"nota_final\": 8.4},\n",
        "\n",
        "    {\"cedula\": \"0107957144\", \"nombre\": \"Paula Gomez\", \"asignatura\": \"Minería de Datos\", \"nota_final\": 9.24},\n",
        "    {\"cedula\": \"0107957144\", \"nombre\": \"Paula Gomez\", \"asignatura\": \"Aprendizaje Profundo\", \"nota_final\": 9.08},\n",
        "\n",
        "    {\"cedula\": \"1401416993\", \"nombre\": \"Maicol Lojano\", \"asignatura\": \"Minería de Datos\", \"nota_final\": 9.24},\n",
        "    {\"cedula\": \"1401416993\", \"nombre\": \"Maicol Lojano\", \"asignatura\": \"Inteligencia de Negocios\", \"nota_final\": 8.85},\n",
        "    {\"cedula\": \"1401416993\", \"nombre\": \"Maicol Lojano\", \"asignatura\": \"Aprendizaje Profundo\", \"nota_final\": 9.06},\n",
        "    {\"cedula\": \"1401416993\", \"nombre\": \"Maicol Lojano\", \"asignatura\": \"Marcos de referencia\", \"nota_final\": 9.32},\n",
        "\n",
        "    {\"cedula\": \"0107416927\", \"nombre\": \"Jose Muños\", \"asignatura\": \"Minería de Datos\", \"nota_final\": 9.71},\n",
        "    {\"cedula\": \"0107416927\", \"nombre\": \"Jose Muños\", \"asignatura\": \"Aprendizaje Profundo\", \"nota_final\": 9.08},\n",
        "\n",
        "    {\"cedula\": \"0107915126\", \"nombre\": \"Danny Pineda\", \"asignatura\": \"Minería de Datos\", \"nota_final\": 8.74},\n",
        "    {\"cedula\": \"0107915126\", \"nombre\": \"Danny Pineda\", \"asignatura\": \"Inteligencia de Negocios\", \"nota_final\": 8.85},\n",
        "    {\"cedula\": \"0107915126\", \"nombre\": \"Danny Pineda\", \"asignatura\": \"Aprendizaje Profundo\", \"nota_final\": 8.39},\n",
        "\n",
        "    {\"cedula\": \"0106422496\", \"nombre\": \"Paul Rodriguez\", \"asignatura\": \"Minería de Datos\", \"nota_final\": 9.28},\n",
        "    {\"cedula\": \"0106422496\", \"nombre\": \"Paul Rodriguez\", \"asignatura\": \"Inteligencia de Negocios\", \"nota_final\": 8.91},\n",
        "    {\"cedula\": \"0106422496\", \"nombre\": \"Paul Rodriguez\", \"asignatura\": \"Aprendizaje Profundo\", \"nota_final\": 8.25},\n",
        "    {\"cedula\": \"0106422496\", \"nombre\": \"Paul Rodriguez\", \"asignatura\": \"Marcos de referencia\", \"nota_final\": 9.15},\n",
        "    {\"cedula\": \"0106422496\", \"nombre\": \"Paul Rodriguez\", \"asignatura\": \"Emprendimiento\", \"nota_final\": 9.13},\n",
        "\n",
        "    {\"cedula\": \"0105467815\", \"nombre\": \"Ariel Saquicela\", \"asignatura\": \"Minería de Datos\", \"nota_final\": 9.28},\n",
        "    {\"cedula\": \"0105467815\", \"nombre\": \"Ariel Saquicela\", \"asignatura\": \"Inteligencia de Negocios\", \"nota_final\": 8.91},\n",
        "    {\"cedula\": \"0105467815\", \"nombre\": \"Ariel Saquicela\", \"asignatura\": \"Aprendizaje Profundo\", \"nota_final\": 8.35},\n",
        "    {\"cedula\": \"0105467815\", \"nombre\": \"Ariel Saquicela\", \"asignatura\": \"Marcos de referencia\", \"nota_final\": 6.17},\n",
        "    {\"cedula\": \"0105467815\", \"nombre\": \"Ariel Saquicela\", \"asignatura\": \"Emprendimiento\", \"nota_final\": 6.08},\n",
        "    {\"cedula\": \"0105467815\", \"nombre\": \"Ariel Saquicela\", \"asignatura\": \"Etica Profesional\", \"nota_final\": 10.00}\n",
        "]\n",
        "\n",
        "# Creación del DataFrame\n",
        "df_final = pd.DataFrame(df_final)\n",
        "\n",
        "# Mostrar el DataFrame\n",
        "print(df_final)"
      ],
      "metadata": {
        "colab": {
          "base_uri": "https://localhost:8080/"
        },
        "id": "bxWQBlXGe_uc",
        "outputId": "0d50d455-6f50-421e-8522-6ffe22697baf"
      },
      "execution_count": 9,
      "outputs": [
        {
          "output_type": "stream",
          "name": "stdout",
          "text": [
            "        cedula               nombre                asignatura  nota_final\n",
            "0   0106605017     Carlos Astudillo          Minería de Datos        9.40\n",
            "1   0106605017     Carlos Astudillo  Inteligencia de Negocios        8.05\n",
            "2   0106605017     Carlos Astudillo      Aprendizaje Profundo        8.71\n",
            "3   0302365440  Jonnathan Astudillo          Minería de Datos        9.17\n",
            "4   0302365440  Jonnathan Astudillo  Inteligencia de Negocios        8.55\n",
            "5   0302365440  Jonnathan Astudillo      Aprendizaje Profundo        7.64\n",
            "6   0302365440  Jonnathan Astudillo            Emprendimiento        9.77\n",
            "7   0150564078       Danny Auquilla          Minería de Datos        8.53\n",
            "8   0150564078       Danny Auquilla      Aprendizaje Profundo        5.64\n",
            "9   0150564078       Danny Auquilla      Marcos de referencia        5.91\n",
            "10  0107973687       Victor Cabrera          Minería de Datos        8.63\n",
            "11  0107973687       Victor Cabrera  Inteligencia de Negocios        8.45\n",
            "12  0107973687       Victor Cabrera      Aprendizaje Profundo        8.68\n",
            "13  0107973687       Victor Cabrera      Marcos de referencia        8.79\n",
            "14  0107973687       Victor Cabrera            Emprendimiento        9.11\n",
            "15  0107973687       Victor Cabrera         Etica Profesional        8.40\n",
            "16  0107957144          Paula Gomez          Minería de Datos        9.24\n",
            "17  0107957144          Paula Gomez      Aprendizaje Profundo        9.08\n",
            "18  1401416993        Maicol Lojano          Minería de Datos        9.24\n",
            "19  1401416993        Maicol Lojano  Inteligencia de Negocios        8.85\n",
            "20  1401416993        Maicol Lojano      Aprendizaje Profundo        9.06\n",
            "21  1401416993        Maicol Lojano      Marcos de referencia        9.32\n",
            "22  0107416927           Jose Muños          Minería de Datos        9.71\n",
            "23  0107416927           Jose Muños      Aprendizaje Profundo        9.08\n",
            "24  0107915126         Danny Pineda          Minería de Datos        8.74\n",
            "25  0107915126         Danny Pineda  Inteligencia de Negocios        8.85\n",
            "26  0107915126         Danny Pineda      Aprendizaje Profundo        8.39\n",
            "27  0106422496       Paul Rodriguez          Minería de Datos        9.28\n",
            "28  0106422496       Paul Rodriguez  Inteligencia de Negocios        8.91\n",
            "29  0106422496       Paul Rodriguez      Aprendizaje Profundo        8.25\n",
            "30  0106422496       Paul Rodriguez      Marcos de referencia        9.15\n",
            "31  0106422496       Paul Rodriguez            Emprendimiento        9.13\n",
            "32  0105467815      Ariel Saquicela          Minería de Datos        9.28\n",
            "33  0105467815      Ariel Saquicela  Inteligencia de Negocios        8.91\n",
            "34  0105467815      Ariel Saquicela      Aprendizaje Profundo        8.35\n",
            "35  0105467815      Ariel Saquicela      Marcos de referencia        6.17\n",
            "36  0105467815      Ariel Saquicela            Emprendimiento        6.08\n",
            "37  0105467815      Ariel Saquicela         Etica Profesional       10.00\n"
          ]
        }
      ]
    },
    {
      "cell_type": "code",
      "source": [
        "# Realiza las uniones\n",
        "df_combined = df_estudiantes \\\n",
        "    .merge(df_diagnostico, on=['cedula', 'nombre', 'asignatura'], how='left') \\\n",
        "    .merge(df_estudiantes, on=['cedula', 'nombre', 'asignatura'], how='left') \\\n",
        "    .merge(df_final, on=['cedula', 'nombre', 'asignatura'], how='left')"
      ],
      "metadata": {
        "id": "S-exOy3UfpIu"
      },
      "execution_count": 14,
      "outputs": []
    },
    {
      "cell_type": "code",
      "source": [
        "# Mostrar el DataFrame combinado\n",
        "print(\"DataFrame combinado:\")\n",
        "print(df_combined)"
      ],
      "metadata": {
        "colab": {
          "base_uri": "https://localhost:8080/"
        },
        "id": "b8jfL5d6gIB8",
        "outputId": "958be1ca-2ad9-4481-f0f5-8a4b874a11b1"
      },
      "execution_count": 15,
      "outputs": [
        {
          "output_type": "stream",
          "name": "stdout",
          "text": [
            "DataFrame combinado:\n",
            "        cedula               nombre                asignatura  nota_final_x  \\\n",
            "0   0106605017     Carlos Astudillo          Minería de Datos          9.40   \n",
            "1   0106605017     Carlos Astudillo  Inteligencia de Negocios          8.05   \n",
            "2   0106605017     Carlos Astudillo      Aprendizaje Profundo          8.71   \n",
            "3   0302365440  Jonnathan Astudillo          Minería de Datos          9.17   \n",
            "4   0302365440  Jonnathan Astudillo  Inteligencia de Negocios          8.55   \n",
            "5   0302365440  Jonnathan Astudillo      Aprendizaje Profundo          7.64   \n",
            "6   0302365440  Jonnathan Astudillo            Emprendimiento          9.77   \n",
            "7   0150564078       Danny Auquilla          Minería de Datos          8.53   \n",
            "8   0150564078       Danny Auquilla      Aprendizaje Profundo          5.64   \n",
            "9   0150564078       Danny Auquilla      Marcos de referencia          5.91   \n",
            "10  0107973687       Victor Cabrera          Minería de Datos          8.63   \n",
            "11  0107973687       Victor Cabrera  Inteligencia de Negocios          8.45   \n",
            "12  0107973687       Victor Cabrera      Aprendizaje Profundo          8.68   \n",
            "13  0107973687       Victor Cabrera      Marcos de referencia          8.79   \n",
            "14  0107973687       Victor Cabrera            Emprendimiento          9.11   \n",
            "15  0107973687       Victor Cabrera         Etica Profesional          8.40   \n",
            "16  0107957144          Paula Gomez          Minería de Datos          9.24   \n",
            "17  0107957144          Paula Gomez      Aprendizaje Profundo          9.08   \n",
            "18  1401416993        Maicol Lojano          Minería de Datos          9.24   \n",
            "19  1401416993        Maicol Lojano  Inteligencia de Negocios          8.85   \n",
            "20  1401416993        Maicol Lojano      Aprendizaje Profundo          9.06   \n",
            "21  1401416993        Maicol Lojano      Marcos de referencia          9.32   \n",
            "22  0107416927           Jose Muños          Minería de Datos          9.71   \n",
            "23  0107416927           Jose Muños      Aprendizaje Profundo          9.08   \n",
            "24  0107915126         Danny Pineda          Minería de Datos          8.74   \n",
            "25  0107915126         Danny Pineda  Inteligencia de Negocios          8.85   \n",
            "26  0107915126         Danny Pineda      Aprendizaje Profundo          8.39   \n",
            "27  0106422496       Paul Rodriguez          Minería de Datos          9.28   \n",
            "28  0106422496       Paul Rodriguez  Inteligencia de Negocios          8.91   \n",
            "29  0106422496       Paul Rodriguez      Aprendizaje Profundo          8.25   \n",
            "30  0106422496       Paul Rodriguez      Marcos de referencia          9.15   \n",
            "31  0106422496       Paul Rodriguez            Emprendimiento          9.13   \n",
            "32  0105467815      Ariel Saquicela          Minería de Datos          9.28   \n",
            "33  0105467815      Ariel Saquicela  Inteligencia de Negocios          8.91   \n",
            "34  0105467815      Ariel Saquicela      Aprendizaje Profundo          8.35   \n",
            "35  0105467815      Ariel Saquicela      Marcos de referencia          6.17   \n",
            "36  0105467815      Ariel Saquicela            Emprendimiento          6.08   \n",
            "37  0105467815      Ariel Saquicela         Etica Profesional         10.00   \n",
            "\n",
            "    nota_diagnostico  nota_final_y  nota_final  \n",
            "0               8.00          9.40        9.40  \n",
            "1               6.00          8.05        8.05  \n",
            "2               5.43          8.71        8.71  \n",
            "3               0.00          9.17        9.17  \n",
            "4               0.00          8.55        8.55  \n",
            "5               0.00          7.64        7.64  \n",
            "6               0.00          9.77        9.77  \n",
            "7               0.00          8.53        8.53  \n",
            "8               0.00          5.64        5.64  \n",
            "9               3.89          5.91        5.91  \n",
            "10              8.00          8.63        8.63  \n",
            "11              0.00          8.45        8.45  \n",
            "12              5.22          8.68        8.68  \n",
            "13              5.50          8.79        8.79  \n",
            "14              0.00          9.11        9.11  \n",
            "15             10.00          8.40        8.40  \n",
            "16              0.00          9.24        9.24  \n",
            "17              5.55          9.08        9.08  \n",
            "18              8.00          9.24        9.24  \n",
            "19              8.00          8.85        8.85  \n",
            "20              5.42          9.06        9.06  \n",
            "21              5.07          9.32        9.32  \n",
            "22              0.00          9.71        9.71  \n",
            "23              4.42          9.08        9.08  \n",
            "24             10.00          8.74        8.74  \n",
            "25              6.00          8.85        8.85  \n",
            "26              4.89          8.39        8.39  \n",
            "27              8.00          9.28        9.28  \n",
            "28              9.00          8.91        8.91  \n",
            "29              6.40          8.25        8.25  \n",
            "30              6.53          9.15        9.15  \n",
            "31              5.00          9.13        9.13  \n",
            "32             10.00          9.28        9.28  \n",
            "33              9.00          8.91        8.91  \n",
            "34              6.27          8.35        8.35  \n",
            "35              7.00          6.17        6.17  \n",
            "36              3.00          6.08        6.08  \n",
            "37             10.00         10.00       10.00  \n"
          ]
        }
      ]
    },
    {
      "cell_type": "code",
      "source": [
        "# Preparar los datos para el modelo\n",
        "X = df_combined[['nota_final', 'nota_diagnostico', 'nota_final_y']]\n",
        "y = df_combined['nota_final_x']"
      ],
      "metadata": {
        "id": "j_AESdKogN4-"
      },
      "execution_count": 16,
      "outputs": []
    },
    {
      "cell_type": "code",
      "source": [
        "# Dividir los datos en entrenamiento y prueba\n",
        "X_train, X_test, y_train, y_test = train_test_split(X, y, test_size=0.3, random_state=0)"
      ],
      "metadata": {
        "id": "zpU9M4gAg5Qd"
      },
      "execution_count": 17,
      "outputs": []
    },
    {
      "cell_type": "code",
      "source": [
        "# Crear un modelo de regresión lineal\n",
        "model = LinearRegression()\n",
        "model.fit(X_train, y_train)"
      ],
      "metadata": {
        "colab": {
          "base_uri": "https://localhost:8080/",
          "height": 74
        },
        "id": "FBRdDBEig8W4",
        "outputId": "dad7637e-94bb-404f-a2ff-6e90def66b94"
      },
      "execution_count": 18,
      "outputs": [
        {
          "output_type": "execute_result",
          "data": {
            "text/plain": [
              "LinearRegression()"
            ],
            "text/html": [
              "<style>#sk-container-id-1 {color: black;}#sk-container-id-1 pre{padding: 0;}#sk-container-id-1 div.sk-toggleable {background-color: white;}#sk-container-id-1 label.sk-toggleable__label {cursor: pointer;display: block;width: 100%;margin-bottom: 0;padding: 0.3em;box-sizing: border-box;text-align: center;}#sk-container-id-1 label.sk-toggleable__label-arrow:before {content: \"▸\";float: left;margin-right: 0.25em;color: #696969;}#sk-container-id-1 label.sk-toggleable__label-arrow:hover:before {color: black;}#sk-container-id-1 div.sk-estimator:hover label.sk-toggleable__label-arrow:before {color: black;}#sk-container-id-1 div.sk-toggleable__content {max-height: 0;max-width: 0;overflow: hidden;text-align: left;background-color: #f0f8ff;}#sk-container-id-1 div.sk-toggleable__content pre {margin: 0.2em;color: black;border-radius: 0.25em;background-color: #f0f8ff;}#sk-container-id-1 input.sk-toggleable__control:checked~div.sk-toggleable__content {max-height: 200px;max-width: 100%;overflow: auto;}#sk-container-id-1 input.sk-toggleable__control:checked~label.sk-toggleable__label-arrow:before {content: \"▾\";}#sk-container-id-1 div.sk-estimator input.sk-toggleable__control:checked~label.sk-toggleable__label {background-color: #d4ebff;}#sk-container-id-1 div.sk-label input.sk-toggleable__control:checked~label.sk-toggleable__label {background-color: #d4ebff;}#sk-container-id-1 input.sk-hidden--visually {border: 0;clip: rect(1px 1px 1px 1px);clip: rect(1px, 1px, 1px, 1px);height: 1px;margin: -1px;overflow: hidden;padding: 0;position: absolute;width: 1px;}#sk-container-id-1 div.sk-estimator {font-family: monospace;background-color: #f0f8ff;border: 1px dotted black;border-radius: 0.25em;box-sizing: border-box;margin-bottom: 0.5em;}#sk-container-id-1 div.sk-estimator:hover {background-color: #d4ebff;}#sk-container-id-1 div.sk-parallel-item::after {content: \"\";width: 100%;border-bottom: 1px solid gray;flex-grow: 1;}#sk-container-id-1 div.sk-label:hover label.sk-toggleable__label {background-color: #d4ebff;}#sk-container-id-1 div.sk-serial::before {content: \"\";position: absolute;border-left: 1px solid gray;box-sizing: border-box;top: 0;bottom: 0;left: 50%;z-index: 0;}#sk-container-id-1 div.sk-serial {display: flex;flex-direction: column;align-items: center;background-color: white;padding-right: 0.2em;padding-left: 0.2em;position: relative;}#sk-container-id-1 div.sk-item {position: relative;z-index: 1;}#sk-container-id-1 div.sk-parallel {display: flex;align-items: stretch;justify-content: center;background-color: white;position: relative;}#sk-container-id-1 div.sk-item::before, #sk-container-id-1 div.sk-parallel-item::before {content: \"\";position: absolute;border-left: 1px solid gray;box-sizing: border-box;top: 0;bottom: 0;left: 50%;z-index: -1;}#sk-container-id-1 div.sk-parallel-item {display: flex;flex-direction: column;z-index: 1;position: relative;background-color: white;}#sk-container-id-1 div.sk-parallel-item:first-child::after {align-self: flex-end;width: 50%;}#sk-container-id-1 div.sk-parallel-item:last-child::after {align-self: flex-start;width: 50%;}#sk-container-id-1 div.sk-parallel-item:only-child::after {width: 0;}#sk-container-id-1 div.sk-dashed-wrapped {border: 1px dashed gray;margin: 0 0.4em 0.5em 0.4em;box-sizing: border-box;padding-bottom: 0.4em;background-color: white;}#sk-container-id-1 div.sk-label label {font-family: monospace;font-weight: bold;display: inline-block;line-height: 1.2em;}#sk-container-id-1 div.sk-label-container {text-align: center;}#sk-container-id-1 div.sk-container {/* jupyter's `normalize.less` sets `[hidden] { display: none; }` but bootstrap.min.css set `[hidden] { display: none !important; }` so we also need the `!important` here to be able to override the default hidden behavior on the sphinx rendered scikit-learn.org. See: https://github.com/scikit-learn/scikit-learn/issues/21755 */display: inline-block !important;position: relative;}#sk-container-id-1 div.sk-text-repr-fallback {display: none;}</style><div id=\"sk-container-id-1\" class=\"sk-top-container\"><div class=\"sk-text-repr-fallback\"><pre>LinearRegression()</pre><b>In a Jupyter environment, please rerun this cell to show the HTML representation or trust the notebook. <br />On GitHub, the HTML representation is unable to render, please try loading this page with nbviewer.org.</b></div><div class=\"sk-container\" hidden><div class=\"sk-item\"><div class=\"sk-estimator sk-toggleable\"><input class=\"sk-toggleable__control sk-hidden--visually\" id=\"sk-estimator-id-1\" type=\"checkbox\" checked><label for=\"sk-estimator-id-1\" class=\"sk-toggleable__label sk-toggleable__label-arrow\">LinearRegression</label><div class=\"sk-toggleable__content\"><pre>LinearRegression()</pre></div></div></div></div></div>"
            ]
          },
          "metadata": {},
          "execution_count": 18
        }
      ]
    },
    {
      "cell_type": "code",
      "source": [
        "# Realizar predicciones\n",
        "y_pred = model.predict(X_test)"
      ],
      "metadata": {
        "id": "eO-jd3uohBbb"
      },
      "execution_count": 19,
      "outputs": []
    },
    {
      "cell_type": "markdown",
      "source": [
        "##Error Cuadrático Medio (MSE)\n",
        "Descripción: Mide el promedio de los cuadrados de los errores (diferencias entre valores predichos y reales). Penaliza los errores grandes más severamente."
      ],
      "metadata": {
        "id": "nWPJuEtkhFpk"
      }
    },
    {
      "cell_type": "code",
      "source": [
        "# Evaluar el modelo\n",
        "mse = mean_squared_error(y_test, y_pred)\n",
        "print(\"\\nEvaluación del modelo de regresión:\")\n",
        "print(f\"Error Cuadrático Medio (MSE): {mse:.2f}\")\n"
      ],
      "metadata": {
        "colab": {
          "base_uri": "https://localhost:8080/"
        },
        "id": "a6JkMpbGhCi2",
        "outputId": "87e5ff5b-d49f-4de7-b09b-49bade71cf21"
      },
      "execution_count": 21,
      "outputs": [
        {
          "output_type": "stream",
          "name": "stdout",
          "text": [
            "\n",
            "Evaluación del modelo de regresión:\n",
            "Error Cuadrático Medio (MSE): 0.00\n"
          ]
        }
      ]
    },
    {
      "cell_type": "markdown",
      "source": [
        "##Interpretación:\n",
        "Un MSE más bajo indica que el modelo está haciendo predicciones más cercanas a los valores reales."
      ],
      "metadata": {
        "id": "rHmAwocihUX0"
      }
    },
    {
      "cell_type": "markdown",
      "source": [
        "##Error Absoluto Medio (MAE)\n",
        "Descripción: Mide el promedio de las diferencias absolutas entre valores predichos y reales. Es menos sensible a los errores grandes en comparación con el MSE."
      ],
      "metadata": {
        "id": "P1i4VGCDhYMI"
      }
    },
    {
      "cell_type": "code",
      "source": [
        "# Evaluar el modelo\n",
        "mae = mean_absolute_error(y_test, y_pred)\n",
        "print(\"\\nEvaluación del modelo de regresión:\")\n",
        "print(f\"Error Absoluto Medio (MAE): {mae:.2f}\")"
      ],
      "metadata": {
        "colab": {
          "base_uri": "https://localhost:8080/"
        },
        "id": "X68wAMyrhOd-",
        "outputId": "3dec2f8a-cf53-4b53-9043-a92767b5de6d"
      },
      "execution_count": 22,
      "outputs": [
        {
          "output_type": "stream",
          "name": "stdout",
          "text": [
            "\n",
            "Evaluación del modelo de regresión:\n",
            "Error Absoluto Medio (MAE): 0.00\n"
          ]
        }
      ]
    },
    {
      "cell_type": "markdown",
      "source": [
        "##Coeficiente de Determinación (R²)\n",
        "Descripción: Mide la proporción de la varianza en la variable dependiente que es explicada por el modelo. Varía entre 0 (sin explicación) y 1 (explicación perfecta)."
      ],
      "metadata": {
        "id": "5JbknFVxho48"
      }
    },
    {
      "cell_type": "code",
      "source": [
        "# Evaluar el modelo\n",
        "r2 = r2_score(y_test, y_pred)"
      ],
      "metadata": {
        "id": "uH7B3Jjkhonv"
      },
      "execution_count": 23,
      "outputs": []
    },
    {
      "cell_type": "code",
      "source": [
        "print(\"\\nEvaluación del modelo de regresión:\")\n",
        "print(f\"Coeficiente de Determinación (R²): {r2:.2f}\")"
      ],
      "metadata": {
        "colab": {
          "base_uri": "https://localhost:8080/"
        },
        "id": "_rh3zw31hh4k",
        "outputId": "8a2987ba-7cd2-4d88-de90-e18f221ea272"
      },
      "execution_count": 24,
      "outputs": [
        {
          "output_type": "stream",
          "name": "stdout",
          "text": [
            "\n",
            "Evaluación del modelo de regresión:\n",
            "Coeficiente de Determinación (R²): 1.00\n"
          ]
        }
      ]
    },
    {
      "cell_type": "markdown",
      "source": [
        "##Interpretación:\n",
        "Un R² más alto indica un mejor ajuste del modelo a los datos. Un R² negativo sugiere que el modelo es peor que un modelo simple que predice la media de los valores."
      ],
      "metadata": {
        "id": "f43I24woh3Pr"
      }
    },
    {
      "cell_type": "markdown",
      "source": [
        "##Visualización de Predicciones vs. Valores Reales\n",
        "Descripción: Un gráfico de dispersión para comparar las predicciones del modelo con los valores reales. La línea de referencia ayuda a visualizar cuán cerca están las predicciones de los valores reales."
      ],
      "metadata": {
        "id": "E5ei2PAjiB3L"
      }
    },
    {
      "cell_type": "code",
      "source": [
        "# Visualizar las predicciones vs. valores reales\n",
        "plt.figure(figsize=(10, 6))\n",
        "plt.scatter(y_test, y_pred, color='blue', label='Predicciones')\n",
        "plt.plot([y.min(), y.max()], [y.min(), y.max()], color='red', linestyle='--', label='Línea de referencia')\n",
        "plt.xlabel('Valores Reales')\n",
        "plt.ylabel('Valores Predichos')\n",
        "plt.title('Predicciones vs. Valores Reales')\n",
        "plt.legend()\n",
        "plt.show()"
      ],
      "metadata": {
        "colab": {
          "base_uri": "https://localhost:8080/",
          "height": 564
        },
        "id": "LvYb65vnhxhB",
        "outputId": "4c536d7a-0c08-47ee-a687-703543a6b129"
      },
      "execution_count": 25,
      "outputs": [
        {
          "output_type": "display_data",
          "data": {
            "text/plain": [
              "<Figure size 1000x600 with 1 Axes>"
            ],
            "image/png": "[encoded data removed]"
          },
          "metadata": {}
        }
      ]
    },
    {
      "cell_type": "markdown",
      "source": [
        "##Distribución de Errores\n",
        "Descripción: Un histograma que muestra la distribución de los errores (diferencias entre valores reales y predicciones). La curva KDE (Kernel Density Estimate) ayuda a visualizar la forma de la distribución."
      ],
      "metadata": {
        "id": "UqJUR3SHiL10"
      }
    },
    {
      "cell_type": "code",
      "source": [
        "# Visualizar la distribución de errores\n",
        "errors = y_test - y_pred\n",
        "plt.figure(figsize=(10, 6))\n",
        "sns.histplot(errors, kde=True)\n",
        "plt.xlabel('Error')\n",
        "plt.ylabel('Frecuencia')\n",
        "plt.title('Distribución de Errores')\n",
        "plt.show()"
      ],
      "metadata": {
        "colab": {
          "base_uri": "https://localhost:8080/",
          "height": 564
        },
        "id": "21ewfda0iHmf",
        "outputId": "6d9c5527-87cc-4696-cc96-5d525da51bcf"
      },
      "execution_count": 26,
      "outputs": [
        {
          "output_type": "display_data",
          "data": {
            "text/plain": [
              "<Figure size 1000x600 with 1 Axes>"
            ],
            "image/png": "[encoded data removed]"
          },
          "metadata": {}
        }
      ]
    },
    {
      "cell_type": "markdown",
      "source": [
        "#¿Qué métrica mide el promedio de los cuadrados de los errores en las predicciones del modelo?\n",
        "\n",
        "B) Error Cuadrático Medio (MSE)\n",
        "#¿Cuál es la interpretación de un valor bajo de MAE?\n",
        "\n",
        "C) El modelo es preciso en promedio.\n",
        "#¿Qué indica un valor de R² igual a 1?\n",
        "\n",
        "C) El modelo explica perfectamente la varianza en los datos.\n",
        "#¿Cuál es el propósito de dividir los datos en conjuntos de entrenamiento y prueba?\n",
        "\n",
        "A) Para evaluar el rendimiento del modelo en datos no vistos.\n",
        "#En la visualización de 'Predicciones vs. Valores Reales', ¿qué representa la línea de referencia?\n",
        "\n",
        "C) La línea donde las predicciones serían perfectas.\n",
        "#¿Qué información proporciona el histograma de errores?\n",
        "\n",
        "C) La distribución de las diferencias entre valores reales y predicciones.\n",
        "#¿Qué métrica es menos sensible a errores grandes y proporciona un promedio simple de las diferencias absolutas?\n",
        "\n",
        "B) Error Absoluto Medio (MAE)\n",
        "#¿Cuál es la función principal de la biblioteca sklearn en el notebook?\n",
        "\n",
        "C) Construir y evaluar modelos predictivos.\n",
        "#¿Qué función se utiliza para calcular el Error Cuadrático Medio en Python?\n",
        "\n",
        "C) mean_squared_error()\n",
        "#¿Qué se está intentando predecir en el modelo de regresión lineal?\n",
        "\n",
        "D) nota_final2"
      ],
      "metadata": {
        "id": "4rKUGhiOintL"
      }
    }
  ]
}