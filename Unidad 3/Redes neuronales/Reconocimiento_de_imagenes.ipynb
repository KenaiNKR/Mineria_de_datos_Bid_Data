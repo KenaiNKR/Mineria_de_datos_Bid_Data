{
  "nbformat": 4,
  "nbformat_minor": 0,
  "metadata": {
    "colab": {
      "provenance": []
    },
    "kernelspec": {
      "name": "python3",
      "display_name": "Python 3"
    },
    "language_info": {
      "name": "python"
    }
  },
  "cells": [
    {
      "cell_type": "code",
      "source": [
        "import tensorflow as tf\n",
        "from tensorflow.keras import layers, models\n",
        "import cv2\n",
        "import numpy as np\n"
      ],
      "metadata": {
        "id": "XOrxQ6egl_3q"
      },
      "execution_count": 4,
      "outputs": []
    },
    {
      "cell_type": "code",
      "source": [
        "from google.colab import drive\n",
        "drive.mount('/content/drive')\n"
      ],
      "metadata": {
        "colab": {
          "base_uri": "https://localhost:8080/"
        },
        "id": "g1PPUZlxnK1c",
        "outputId": "6946b19b-840e-4967-a57a-f7c9d47a9483"
      },
      "execution_count": 5,
      "outputs": [
        {
          "output_type": "stream",
          "name": "stdout",
          "text": [
            "Mounted at /content/drive\n"
          ]
        }
      ]
    },
    {
      "cell_type": "code",
      "source": [
        "# 1. Cargar los datos de entrenamiento (en este caso, la base de datos MNIST)\n",
        "mnist = tf.keras.datasets.mnist\n",
        "(training_images, training_labels), (test_images, test_labels) = mnist.load_data()\n",
        "\n",
        "# Normalizar y redimensionar las imágenes para que estén en el rango [0, 1] y tengan el tamaño adecuado para la CNN\n",
        "training_images = training_images.astype(np.float32) / 255.0\n",
        "test_images = test_images.astype(np.float32) / 255.0\n",
        "\n",
        "# Agregar una dimensión extra para indicar el número de canales (en este caso, solo 1 canal porque son imágenes en escala de grises)\n",
        "training_images = np.expand_dims(training_images, axis=-1)\n",
        "test_images = np.expand_dims(test_images, axis=-1)\n",
        "\n"
      ],
      "metadata": {
        "id": "FsccT0lnmC8h",
        "colab": {
          "base_uri": "https://localhost:8080/"
        },
        "outputId": "fadc3a40-1a13-44e2-caaf-03b5c5855cfc"
      },
      "execution_count": 6,
      "outputs": [
        {
          "output_type": "stream",
          "name": "stdout",
          "text": [
            "Downloading data from https://storage.googleapis.com/tensorflow/tf-keras-datasets/mnist.npz\n",
            "11490434/11490434 [==============================] - 0s 0us/step\n"
          ]
        }
      ]
    },
    {
      "cell_type": "code",
      "source": [
        "# 2. Definir y entrenar el modelo CNN\n",
        "model = models.Sequential([\n",
        "    layers.Conv2D(32, (3, 3), activation='relu', input_shape=(28, 28, 1)),\n",
        "    layers.MaxPooling2D((2, 2)),\n",
        "    layers.Conv2D(64, (3, 3), activation='relu'),\n",
        "    layers.MaxPooling2D((2, 2)),\n",
        "    layers.Conv2D(128, (3, 3), activation='relu'),\n",
        "    layers.MaxPooling2D((2, 2)),\n",
        "    layers.Flatten(),\n",
        "    layers.Dense(64, activation='relu'),\n",
        "    layers.Dense(10, activation='softmax')\n",
        "])\n",
        "\n",
        "model.compile(optimizer='adam',\n",
        "              loss='sparse_categorical_crossentropy',\n",
        "              metrics=['accuracy'])\n",
        "\n",
        "model.fit(training_images, training_labels, epochs=5, batch_size=32)\n",
        "\n"
      ],
      "metadata": {
        "colab": {
          "base_uri": "https://localhost:8080/"
        },
        "id": "Nb8wdj15mFig",
        "outputId": "88a402a0-31ad-430b-eb26-a57198a66209"
      },
      "execution_count": 7,
      "outputs": [
        {
          "output_type": "stream",
          "name": "stdout",
          "text": [
            "Epoch 1/5\n",
            "1875/1875 [==============================] - 54s 28ms/step - loss: 0.2034 - accuracy: 0.9368\n",
            "Epoch 2/5\n",
            "1875/1875 [==============================] - 51s 27ms/step - loss: 0.0653 - accuracy: 0.9801\n",
            "Epoch 3/5\n",
            "1875/1875 [==============================] - 53s 28ms/step - loss: 0.0489 - accuracy: 0.9852\n",
            "Epoch 4/5\n",
            "1875/1875 [==============================] - 52s 28ms/step - loss: 0.0361 - accuracy: 0.9891\n",
            "Epoch 5/5\n",
            "1875/1875 [==============================] - 54s 29ms/step - loss: 0.0293 - accuracy: 0.9909\n"
          ]
        },
        {
          "output_type": "execute_result",
          "data": {
            "text/plain": [
              "<keras.src.callbacks.History at 0x799de8bdbfd0>"
            ]
          },
          "metadata": {},
          "execution_count": 7
        }
      ]
    },
    {
      "cell_type": "code",
      "source": [
        "# 3. Obtener y preprocesar una imagen de prueba (puedes usar cualquier imagen que desees)\n",
        "# Directorio que contiene las imágenes\n",
        "image_dir = '/content/drive/MyDrive/Numeros'\n",
        "\n",
        "# Lista para almacenar las imágenes preprocesadas\n",
        "processed_images = []\n",
        "image_names = []  # Lista para almacenar los nombres de las imágenes\n",
        "\n",
        "# Iterar sobre todos los archivos en el directorio de imágenes\n",
        "for image_name in os.listdir(image_dir):\n",
        "    image_path = os.path.join(image_dir, image_name)\n",
        "    if image_path.endswith(('.png', '.jpg', '.jpeg')):  # Filtrar solo archivos de imagen\n",
        "        # Leer y preprocesar la imagen\n",
        "        image = cv2.imread(image_path, cv2.IMREAD_GRAYSCALE)  # Leer la imagen en escala de grises\n",
        "        image = cv2.resize(image, (28, 28))  # Redimensionar la imagen al tamaño requerido por el modelo\n",
        "        image = image.astype(np.float32) / 255.0  # Normalizar la imagen\n",
        "        image = np.expand_dims(image, axis=-1)  # Añadir una dimensión extra para el canal de color\n",
        "        image = np.expand_dims(image, axis=0)  # Añadir una dimensión extra para el tamaño del batch\n",
        "        processed_images.append(image)\n",
        "        image_names.append(image_name)\n",
        "\n"
      ],
      "metadata": {
        "id": "jjGEaauemIFg"
      },
      "execution_count": 24,
      "outputs": []
    },
    {
      "cell_type": "code",
      "source": [
        "# 4. Realizar la predicción\n",
        "# Convertir la lista de imágenes preprocesadas en un array numpy\n",
        "processed_images = np.vstack(processed_images)\n",
        "\n",
        "# Realizar la predicción sobre todas las imágenes preprocesadas\n",
        "predictions = model.predict(processed_images)\n",
        "\n",
        "# Obtener la clase predicha para cada imagen\n",
        "predicted_classes = np.argmax(predictions, axis=1)\n",
        "\n",
        "# 5. Obtener el resultado\n",
        "# Mostrar las predicciones\n",
        "for idx, image_name in enumerate(image_names):\n",
        "    print(f\"Imagen: {image_name} - Clase Predicha: {predicted_classes[idx]}\")\n",
        "\n"
      ],
      "metadata": {
        "colab": {
          "base_uri": "https://localhost:8080/"
        },
        "id": "HeCgkiYimJi5",
        "outputId": "9d59bd04-ebd2-48cf-dbc1-8000f8d38df9"
      },
      "execution_count": 25,
      "outputs": [
        {
          "output_type": "stream",
          "name": "stdout",
          "text": [
            "1/1 [==============================] - 0s 21ms/step\n",
            "Imagen: Nro 9.png - Clase Predicha: 5\n",
            "Imagen: Nro 8.png - Clase Predicha: 8\n",
            "Imagen: Nro 5.png - Clase Predicha: 5\n",
            "Imagen: Nro 4.png - Clase Predicha: 2\n",
            "Imagen: Nro 3.png - Clase Predicha: 3\n",
            "Imagen: Nro 6.png - Clase Predicha: 6\n",
            "Imagen: Nro 1.png - Clase Predicha: 1\n",
            "Imagen: Nro 2.png - Clase Predicha: 3\n",
            "Imagen: Nro 0.png - Clase Predicha: 6\n",
            "Imagen: Nro 7.png - Clase Predicha: 3\n"
          ]
        }
      ]
    },
    {
      "cell_type": "markdown",
      "source": [],
      "metadata": {
        "id": "5XKK2hlsh3L1"
      }
    }
  ]
}