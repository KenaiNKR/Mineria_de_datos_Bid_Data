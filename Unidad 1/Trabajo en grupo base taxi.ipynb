{
 "cells": [
  {
   "cell_type": "markdown",
   "id": "de6ba2fa-6ef1-412b-b57a-c3877ff6fbbb",
   "metadata": {
    "tags": []
   },
   "source": [
    "# Nombre de la asignatura: Mineria de datos\n",
    "### Carrera: Big Data\n",
    "### Estudiante: Paul Rodriguez, Carlos Astudillo, Ariel Saquicela\n",
    "### Fecha:22/04/2024\n",
    "\n",
    "### Objetivos de la Práctica:\n",
    "En la siguiente práctica se realizará el proceso de Extracción, Transformación y Carga de Datos.\n",
    "\n",
    "En primera instancia se debe de crear la estructura de la base de datos para ello se adjunta el script de la base de datos. En mysql cuyo nombre es: Dump20240109.ssql\n"
   ]
  },
  {
   "cell_type": "markdown",
   "id": "822dd46c-653f-4d53-83c2-bd49242edc48",
   "metadata": {},
   "source": [
    "### 1. Importamos las librerías\n",
    "\n",
    "Si no tiene instalado la librería mysql.connector debe de ejecutar la siguiente línea de comandos."
   ]
  },
  {
   "cell_type": "code",
   "execution_count": 46,
   "id": "0ee1e193-b835-4da6-ba79-21eac69b888b",
   "metadata": {
    "tags": []
   },
   "outputs": [],
   "source": [
    "# pip install mysql.connector"
   ]
  },
  {
   "cell_type": "code",
   "execution_count": 47,
   "id": "bd4fa224",
   "metadata": {
    "tags": []
   },
   "outputs": [],
   "source": [
    "#!pip install mysql.connector"
   ]
  },
  {
   "cell_type": "code",
   "execution_count": 48,
   "id": "b596668a",
   "metadata": {
    "tags": []
   },
   "outputs": [],
   "source": [
    "#!pip install xlrd"
   ]
  },
  {
   "cell_type": "code",
   "execution_count": 78,
   "id": "d4d6099e-e36c-4d5e-befe-3dd32179cdc8",
   "metadata": {
    "tags": []
   },
   "outputs": [],
   "source": [
    "#!pip install pymysql"
   ]
  },
  {
   "cell_type": "code",
   "execution_count": 1,
   "id": "e209bdeb-2985-4e74-a2a8-c11896a2260e",
   "metadata": {
    "tags": []
   },
   "outputs": [],
   "source": [
    "import mysql.connector\n",
    "import pandas as pd"
   ]
  },
  {
   "cell_type": "markdown",
   "id": "a034c96c-d798-47fd-bbde-30e29da09712",
   "metadata": {},
   "source": [
    "### 2. Cargamos la data"
   ]
  },
  {
   "cell_type": "code",
   "execution_count": 4,
   "id": "38770790-d695-459d-904f-846139c279cd",
   "metadata": {
    "tags": []
   },
   "outputs": [
    {
     "data": {
      "text/html": [
       "<div>\n",
       "<style scoped>\n",
       "    .dataframe tbody tr th:only-of-type {\n",
       "        vertical-align: middle;\n",
       "    }\n",
       "\n",
       "    .dataframe tbody tr th {\n",
       "        vertical-align: top;\n",
       "    }\n",
       "\n",
       "    .dataframe thead th {\n",
       "        text-align: right;\n",
       "    }\n",
       "</style>\n",
       "<table border=\"1\" class=\"dataframe\">\n",
       "  <thead>\n",
       "    <tr style=\"text-align: right;\">\n",
       "      <th></th>\n",
       "      <th>Placa</th>\n",
       "      <th>Clase</th>\n",
       "      <th>Marca</th>\n",
       "      <th>Año de fabricación del taxi</th>\n",
       "      <th>Categoría</th>\n",
       "      <th>Tipo taxi</th>\n",
       "    </tr>\n",
       "  </thead>\n",
       "  <tbody>\n",
       "    <tr>\n",
       "      <th>0</th>\n",
       "      <td>AP-000024</td>\n",
       "      <td>Taxi Aeropuerto</td>\n",
       "      <td>Toyota</td>\n",
       "      <td>1990</td>\n",
       "      <td>Automovil</td>\n",
       "      <td>Sedan</td>\n",
       "    </tr>\n",
       "    <tr>\n",
       "      <th>1</th>\n",
       "      <td>AP-000033</td>\n",
       "      <td>Taxi Aeropuerto</td>\n",
       "      <td>Nissan</td>\n",
       "      <td>1990</td>\n",
       "      <td>Automovil</td>\n",
       "      <td>Sedan</td>\n",
       "    </tr>\n",
       "    <tr>\n",
       "      <th>2</th>\n",
       "      <td>AP-000035</td>\n",
       "      <td>Taxi Aeropuerto</td>\n",
       "      <td>Nissan</td>\n",
       "      <td>1990</td>\n",
       "      <td>Automovil</td>\n",
       "      <td>Sedan</td>\n",
       "    </tr>\n",
       "    <tr>\n",
       "      <th>3</th>\n",
       "      <td>AP-000049</td>\n",
       "      <td>Taxi Aeropuerto</td>\n",
       "      <td>Volvo</td>\n",
       "      <td>1990</td>\n",
       "      <td>Automovil</td>\n",
       "      <td>Sedan</td>\n",
       "    </tr>\n",
       "    <tr>\n",
       "      <th>4</th>\n",
       "      <td>AP-000074</td>\n",
       "      <td>Taxi Aeropuerto</td>\n",
       "      <td>Nissan</td>\n",
       "      <td>1990</td>\n",
       "      <td>Automovil</td>\n",
       "      <td>Sedan</td>\n",
       "    </tr>\n",
       "  </tbody>\n",
       "</table>\n",
       "</div>"
      ],
      "text/plain": [
       "       Placa            Clase   Marca  Año de fabricación del taxi  Categoría  \\\n",
       "0  AP-000024  Taxi Aeropuerto  Toyota                         1990  Automovil   \n",
       "1  AP-000033  Taxi Aeropuerto  Nissan                         1990  Automovil   \n",
       "2  AP-000035  Taxi Aeropuerto  Nissan                         1990  Automovil   \n",
       "3  AP-000049  Taxi Aeropuerto   Volvo                         1990  Automovil   \n",
       "4  AP-000074  Taxi Aeropuerto  Nissan                         1990  Automovil   \n",
       "\n",
       "  Tipo taxi  \n",
       "0     Sedan  \n",
       "1     Sedan  \n",
       "2     Sedan  \n",
       "3     Sedan  \n",
       "4     Sedan  "
      ]
     },
     "execution_count": 4,
     "metadata": {},
     "output_type": "execute_result"
    }
   ],
   "source": [
    "# Especifica la ruta de tu archivo Excel\n",
    "ruta_archivo_excel = \"Datos_Taxis.xls\"\n",
    "\n",
    "# Lee el archivo Excel y conviértelo a un DataFrame\n",
    "df = pd.read_excel(ruta_archivo_excel)\n",
    "\n",
    "# Muestra las primeras filas del DataFrame\n",
    "df.head()\n"
   ]
  },
  {
   "cell_type": "markdown",
   "id": "b6fa597b-5148-4142-85a7-03c3f734609a",
   "metadata": {},
   "source": [
    "### 3. Proceso de extracción y Carga de Datos"
   ]
  },
  {
   "cell_type": "markdown",
   "id": "af7045ab-c914-4527-a72a-a54e9d649ebe",
   "metadata": {},
   "source": [
    "### 3.1. Conexión a la base de datos\n",
    "\n",
    "Para esta sección debe de ejecutar o importar el script de la base de datos."
   ]
  },
  {
   "cell_type": "code",
   "execution_count": 8,
   "id": "9b574d64-b6d1-4de1-8a29-c5f926feccac",
   "metadata": {
    "tags": []
   },
   "outputs": [],
   "source": [
    "#Método para conectar a la base de datos\n",
    "def establecer_conexion(host, user, password, database):\n",
    "    try:\n",
    "        conexion = mysql.connector.connect(\n",
    "            host=\"localhost\",\n",
    "            user=\"root\",\n",
    "            password=\"\",\n",
    "            database=\"taxis\"\n",
    "        )\n",
    "        return conexion\n",
    "    except mysql.connector.Error as err:\n",
    "        print(f\"Error: {err}\")\n",
    "        return None"
   ]
  },
  {
   "cell_type": "code",
   "execution_count": 10,
   "id": "3be69aa2-a367-4900-9810-51e52daedd95",
   "metadata": {
    "tags": []
   },
   "outputs": [
    {
     "data": {
      "text/plain": [
       "True"
      ]
     },
     "execution_count": 10,
     "metadata": {},
     "output_type": "execute_result"
    }
   ],
   "source": [
    "conexion = establecer_conexion(\"localhost\", \"root\", \"\", \"taxis\")\n",
    "#Comprobación de la conexión\n",
    "conexion.is_connected()"
   ]
  },
  {
   "cell_type": "markdown",
   "id": "c3bd265a-a59d-4a96-9e50-281dca8d1c02",
   "metadata": {},
   "source": [
    "### 3.2. Eliminar los datos de la base de datos"
   ]
  },
  {
   "cell_type": "code",
   "execution_count": 13,
   "id": "0e0906c9-d88a-4a8d-b75e-aaeca3e1ea3f",
   "metadata": {
    "tags": []
   },
   "outputs": [],
   "source": [
    "# Datos antes de eliminarlos"
   ]
  },
  {
   "cell_type": "code",
   "execution_count": 15,
   "id": "f257db50",
   "metadata": {
    "tags": []
   },
   "outputs": [
    {
     "data": {
      "image/png": "[encoded data removed]",
      "text/plain": [
       "<IPython.core.display.Image object>"
      ]
     },
     "execution_count": 15,
     "metadata": {},
     "output_type": "execute_result"
    }
   ],
   "source": [
    "from IPython.display import Image\n",
    "Image(filename='datos.png')\n"
   ]
  },
  {
   "cell_type": "code",
   "execution_count": 17,
   "id": "eb8ae610-f853-4b90-8751-750223733ce8",
   "metadata": {
    "tags": []
   },
   "outputs": [],
   "source": [
    "def eliminar_datos_base(conexion):\n",
    "    try:\n",
    "        # Desactivar las restricciones de clave externa para permitir la eliminación\n",
    "        cursor = conexion.cursor()\n",
    "        cursor.execute(\"SET FOREIGN_KEY_CHECKS=0;\")\n",
    "\n",
    "        # Eliminar datos de las tablas\n",
    "        delete_queries = [\n",
    "            'DELETE FROM clase;',\n",
    "            'DELETE FROM marca;',\n",
    "            'DELETE FROM taxi;',\n",
    "            'DELETE FROM categoria;',\n",
    "            'DELETE FROM tipo_taxi;',\n",
    "            'DELETE FROM taxi_stg;'\n",
    "        ]\n",
    "\n",
    "        for query in delete_queries:\n",
    "            cursor.execute(query)\n",
    "\n",
    "        # Reiniciar los contadores de autoincremento\n",
    "        reset_auto_increment_queries = [\n",
    "            'ALTER TABLE clase AUTO_INCREMENT = 1;',\n",
    "            'ALTER TABLE marca AUTO_INCREMENT = 1;',\n",
    "            'ALTER TABLE marca AUTO_INCREMENT = 1;',\n",
    "            'ALTER TABLE categoria AUTO_INCREMENT = 1;',\n",
    "            'ALTER TABLE tipo_taxi AUTO_INCREMENT = 1;',\n",
    "            'ALTER TABLE taxi_stg AUTO_INCREMENT = 1;'\n",
    "        ]\n",
    "\n",
    "        for query in reset_auto_increment_queries:\n",
    "            cursor.execute(query)\n",
    "\n",
    "        # Confirmar los cambios\n",
    "        conexion.commit()\n",
    "\n",
    "        print(\"Base de datos limpiada exitosamente.\")\n",
    "\n",
    "    except Exception as e:\n",
    "        print(f\"Error al limpiar la base de datos: {e}\")\n",
    "\n",
    "    finally:\n",
    "        # Reactivar las restricciones de clave externa\n",
    "        cursor.execute(\"SET FOREIGN_KEY_CHECKS=1;\")\n",
    "        cursor.close()\n"
   ]
  },
  {
   "cell_type": "code",
   "execution_count": 19,
   "id": "3c629a98-897e-4b9f-aaf3-a1ed0843ad04",
   "metadata": {
    "tags": []
   },
   "outputs": [
    {
     "name": "stdout",
     "output_type": "stream",
     "text": [
      "Base de datos limpiada exitosamente.\n"
     ]
    }
   ],
   "source": [
    "eliminar_datos_base(conexion)"
   ]
  },
  {
   "cell_type": "code",
   "execution_count": 21,
   "id": "84730f70-ef9e-4b8a-8b5b-0fdd9a047a0e",
   "metadata": {},
   "outputs": [],
   "source": [
    "# Datos eliminados"
   ]
  },
  {
   "cell_type": "code",
   "execution_count": 23,
   "id": "99e2fba4",
   "metadata": {
    "tags": []
   },
   "outputs": [
    {
     "data": {
      "image/png": "[encoded data removed]",
      "text/plain": [
       "<IPython.core.display.Image object>"
      ]
     },
     "execution_count": 23,
     "metadata": {},
     "output_type": "execute_result"
    }
   ],
   "source": [
    "from IPython.display import Image\n",
    "Image(filename='datos_l.png')"
   ]
  },
  {
   "cell_type": "markdown",
   "id": "69c7b3ec-bf89-4bb0-85c9-f1cff688c2ae",
   "metadata": {},
   "source": [
    "### 3.3. Insertar datos a la tabla taxi"
   ]
  },
  {
   "cell_type": "code",
   "execution_count": 26,
   "id": "4cf079c1-364b-411e-b321-0cf532f634d3",
   "metadata": {
    "tags": []
   },
   "outputs": [],
   "source": [
    "  \n",
    "def insert_taxi_stg(conexion, df):\n",
    "    cursor = conexion.cursor()\n",
    "\n",
    "    insert_query = \"INSERT INTO taxi_stg(placa,clase,marca, ano_fabricacion,categoria,tipo_taxi) VALUES (%s, %s, %s, %s, %s, %s)\"\n",
    "\n",
    "    try:\n",
    "        for index, row in df.iterrows():\n",
    "            taxi_data = (row['Placa'], row['Clase'], row['Marca'], row['Año de fabricación del taxi'], row['Categoría'], row['Tipo taxi'])\n",
    "            cursor.execute(insert_query, taxi_data)\n",
    "\n",
    "        conexion.commit()\n",
    "        print(f\"Datos insertados correctamente\")\n",
    "\n",
    "    except Exception as e:\n",
    "        print(f\"Error al insertar datos: {e}\")\n",
    "\n",
    "    finally:\n",
    "        cursor.close()"
   ]
  },
  {
   "cell_type": "code",
   "execution_count": 28,
   "id": "4648834f-3cde-432d-a657-8b5cadbeca32",
   "metadata": {
    "tags": []
   },
   "outputs": [
    {
     "name": "stdout",
     "output_type": "stream",
     "text": [
      "Datos insertados correctamente\n"
     ]
    }
   ],
   "source": [
    "insert_taxi_stg(conexion, df)"
   ]
  },
  {
   "cell_type": "code",
   "execution_count": 29,
   "id": "357a23a7-26a5-45b2-99a7-a6c0b9e64e58",
   "metadata": {
    "tags": []
   },
   "outputs": [],
   "source": [
    "# Imagen de los datos insertados"
   ]
  },
  {
   "cell_type": "code",
   "execution_count": 30,
   "id": "8ffdf679",
   "metadata": {
    "tags": []
   },
   "outputs": [
    {
     "data": {
      "image/png": "[encoded data removed]",
      "text/plain": [
       "<IPython.core.display.Image object>"
      ]
     },
     "execution_count": 30,
     "metadata": {},
     "output_type": "execute_result"
    }
   ],
   "source": [
    "from IPython.display import Image\n",
    "Image(filename='datos_t.png')\n"
   ]
  },
  {
   "cell_type": "markdown",
   "id": "dbadf182-a731-4c7c-b18b-40b2c4bb12a1",
   "metadata": {},
   "source": [
    "### 3.4. Limpiar datos innecesarios"
   ]
  },
  {
   "cell_type": "code",
   "execution_count": 35,
   "id": "6a8cb4e9-867d-4229-94ac-1d2afcbb6455",
   "metadata": {
    "tags": []
   },
   "outputs": [],
   "source": [
    "def limpiar_datos_taxi_stg(conexion):\n",
    "    try:\n",
    "        # Desactivar las restricciones de clave externa para permitir la eliminación\n",
    "        cursor = conexion.cursor()\n",
    "        cursor.execute(\"SET FOREIGN_KEY_CHECKS=0;\")\n",
    "\n",
    "        # Eliminar datos de las tablas\n",
    "        delete_queries = [\n",
    "            'delete from taxi_stg where ano_fabricacion=0;',\n",
    "            'delete from taxi_stg where marca like\"%Marca%no%registrada%\";',\n",
    "            'delete from taxi_stg where categoria like\"%Categoria%no%registrada%\";',\n",
    "            'delete from taxi_stg where tipo_taxi=\"Noid\"'        \n",
    "        ]\n",
    "\n",
    "        for query in delete_queries:\n",
    "            cursor.execute(query)\n",
    "\n",
    "        # Confirmar los cambios\n",
    "        conexion.commit()\n",
    "\n",
    "        print(\"Datos tabla taxi stg limpiada exitosamente.\")\n",
    "\n",
    "    except Exception as e:\n",
    "        print(f\"Error al limpiar la base de datos: {e}\")\n",
    "\n",
    "    finally:\n",
    "        # Reactivar las restricciones de clave externa\n",
    "        cursor.execute(\"SET FOREIGN_KEY_CHECKS=1;\")\n",
    "        cursor.close()\n"
   ]
  },
  {
   "cell_type": "code",
   "execution_count": 37,
   "id": "5b6e27f3-63dd-4313-a4b0-c4e688f40ce6",
   "metadata": {
    "tags": []
   },
   "outputs": [
    {
     "name": "stdout",
     "output_type": "stream",
     "text": [
      "Datos tabla taxi stg limpiada exitosamente.\n"
     ]
    }
   ],
   "source": [
    "limpiar_datos_taxi_stg(conexion)"
   ]
  },
  {
   "cell_type": "code",
   "execution_count": 39,
   "id": "103fc722-fd09-4c01-b07a-159ade7d5e41",
   "metadata": {
    "tags": []
   },
   "outputs": [],
   "source": [
    "#Resultado de la limpieza "
   ]
  },
  {
   "cell_type": "code",
   "execution_count": 41,
   "id": "64728108",
   "metadata": {},
   "outputs": [
    {
     "data": {
      "image/png": "[encoded data removed]",
      "text/plain": [
       "<IPython.core.display.Image object>"
      ]
     },
     "execution_count": 41,
     "metadata": {},
     "output_type": "execute_result"
    }
   ],
   "source": [
    "from IPython.display import Image\n",
    "Image(filename='datos_t_stg_a.png')"
   ]
  },
  {
   "cell_type": "markdown",
   "id": "6e60125a-8e9d-4fec-9bb8-52dda4ce2b52",
   "metadata": {},
   "source": [
    "### 3.4. Obtener valores distintos y asignar a las respectivas tablas"
   ]
  },
  {
   "cell_type": "code",
   "execution_count": 44,
   "id": "c06eeca3-c56a-44d4-b7b2-c007027f5778",
   "metadata": {
    "tags": []
   },
   "outputs": [],
   "source": [
    "def obtener_distinct_values(conexion, column_name):\n",
    "    try:\n",
    "        cursor = conexion.cursor()\n",
    "        select_query = f\"SELECT DISTINCT({column_name}) FROM taxi_stg\"\n",
    "        cursor.execute(select_query)\n",
    "        distinct_values = cursor.fetchall()\n",
    "        print(f\"Datos extraidos correctamente de: {column_name}\")\n",
    "        return tuple(value[0] for value in distinct_values)\n",
    "    except Exception as e:\n",
    "        print(f\"Error al obtener valores distintos: {e}\")\n",
    "        return []\n",
    "    finally:\n",
    "        if cursor:\n",
    "            cursor.close()\n"
   ]
  },
  {
   "cell_type": "code",
   "execution_count": 46,
   "id": "22fd92f0-80f9-45d7-ad6c-c91ddf1ee046",
   "metadata": {
    "tags": []
   },
   "outputs": [
    {
     "name": "stdout",
     "output_type": "stream",
     "text": [
      "Datos extraidos correctamente de: categoria\n"
     ]
    },
    {
     "data": {
      "text/plain": [
       "('Automovil',\n",
       " 'Microbus',\n",
       " 'Carga liviana',\n",
       " 'Taxi',\n",
       " 'Autobus',\n",
       " 'Taxi ( transporte de discapacitados )',\n",
       " 'Transporte colectivo interurbano')"
      ]
     },
     "execution_count": 46,
     "metadata": {},
     "output_type": "execute_result"
    }
   ],
   "source": [
    "distinct_values_categorias=obtener_distinct_values(conexion, \"categoria\")\n",
    "distinct_values_categorias"
   ]
  },
  {
   "cell_type": "code",
   "execution_count": 48,
   "id": "80f9e998-7b8a-449b-9eb7-4b054fed1b7f",
   "metadata": {
    "tags": []
   },
   "outputs": [
    {
     "name": "stdout",
     "output_type": "stream",
     "text": [
      "Datos extraidos correctamente de: tipo_taxi\n"
     ]
    },
    {
     "data": {
      "text/plain": [
       "('Sedan', 'Microbus', 'Rural', 'Adaptado')"
      ]
     },
     "execution_count": 48,
     "metadata": {},
     "output_type": "execute_result"
    }
   ],
   "source": [
    "distinct_values_tipo_taxi=obtener_distinct_values(conexion, \"tipo_taxi\")\n",
    "distinct_values_tipo_taxi"
   ]
  },
  {
   "cell_type": "code",
   "execution_count": 50,
   "id": "fda04ade-9103-47ec-a128-91d59203d7c2",
   "metadata": {
    "tags": []
   },
   "outputs": [
    {
     "name": "stdout",
     "output_type": "stream",
     "text": [
      "Datos extraidos correctamente de: clase\n"
     ]
    },
    {
     "data": {
      "text/plain": [
       "('Taxi Aeropuerto',\n",
       " 'Taxi Alajuela',\n",
       " 'Taxi Cartago',\n",
       " 'Taxi Guanacaste',\n",
       " 'Taxi Heredia',\n",
       " 'Taxi Limón',\n",
       " 'Taxi Puntarenas',\n",
       " 'Taxi San José')"
      ]
     },
     "execution_count": 50,
     "metadata": {},
     "output_type": "execute_result"
    }
   ],
   "source": [
    "distinct_values_clases=obtener_distinct_values(conexion, \"clase\")\n",
    "distinct_values_clases"
   ]
  },
  {
   "cell_type": "code",
   "execution_count": 52,
   "id": "8777c24a-1d7d-4162-890e-a05abcd27e15",
   "metadata": {
    "tags": []
   },
   "outputs": [
    {
     "name": "stdout",
     "output_type": "stream",
     "text": [
      "Datos extraidos correctamente de: marca\n"
     ]
    },
    {
     "data": {
      "text/plain": [
       "('Toyota',\n",
       " 'Nissan',\n",
       " 'Volvo',\n",
       " 'Citroen',\n",
       " 'Hyundai',\n",
       " 'Peugeot',\n",
       " 'Daihatsu',\n",
       " 'Mitsubishi',\n",
       " 'Kia',\n",
       " 'Faw',\n",
       " 'Suzuki',\n",
       " 'Isuzu',\n",
       " 'Greatwall',\n",
       " 'Ssang yong',\n",
       " 'Ford',\n",
       " 'Mazda',\n",
       " 'Lifan',\n",
       " 'Jac',\n",
       " 'Fiat',\n",
       " 'Geely',\n",
       " 'Dfm',\n",
       " 'Chevrolet',\n",
       " 'Mahindra',\n",
       " 'Gonow',\n",
       " 'Renault',\n",
       " 'Golden dragon',\n",
       " 'Baw',\n",
       " 'Jmc',\n",
       " 'South east',\n",
       " 'Daewoo',\n",
       " 'Changan',\n",
       " 'Geo',\n",
       " 'Foton',\n",
       " 'Tianma',\n",
       " 'Dongfeng',\n",
       " 'Zna',\n",
       " 'Zotye',\n",
       " 'Land rover',\n",
       " 'Cmc',\n",
       " 'Volkswagen',\n",
       " 'Honda',\n",
       " 'Byd',\n",
       " 'Dacia',\n",
       " 'Dodge',\n",
       " 'Asia',\n",
       " 'Changhe')"
      ]
     },
     "execution_count": 52,
     "metadata": {},
     "output_type": "execute_result"
    }
   ],
   "source": [
    "distinct_values_marcas=obtener_distinct_values(conexion, \"marca\")\n",
    "distinct_values_marcas"
   ]
  },
  {
   "cell_type": "markdown",
   "id": "455988f0-9bd0-4d55-908d-b8c026871173",
   "metadata": {},
   "source": [
    "### 3.5. Insertar los datos extraidos en las respectivas tablas"
   ]
  },
  {
   "cell_type": "code",
   "execution_count": 55,
   "id": "94dabaf9-dfd4-4d63-bfc7-cc15dd76e0bb",
   "metadata": {
    "tags": []
   },
   "outputs": [
    {
     "name": "stdout",
     "output_type": "stream",
     "text": [
      "Datos insertados correctamente en marca.\n"
     ]
    }
   ],
   "source": [
    "def insert_distinct_values_into_table(conexion, distinct_values, table_name, column_name):\n",
    "    try:\n",
    "        cursor = conexion.cursor()\n",
    "        insert_query = f\"INSERT INTO {table_name} ({column_name}) VALUES (%s)\"\n",
    "        for value in distinct_values:\n",
    "            cursor.execute(insert_query, (value,))\n",
    "\n",
    "        conexion.commit()\n",
    "        print(f\"Datos insertados correctamente en {table_name}.\")\n",
    "\n",
    "    except Exception as e:\n",
    "        print(f\"Error al insertar datos en {table_name}: {e}\")\n",
    "    finally:\n",
    "        if cursor:\n",
    "            cursor.close()\n",
    "\n",
    "insert_distinct_values_into_table(conexion, distinct_values_marcas, \"marca\", \"descripcion_marca\")\n"
   ]
  },
  {
   "cell_type": "code",
   "execution_count": 56,
   "id": "08d933fa-ec0b-4f7e-bf5b-f2b8cd192b91",
   "metadata": {
    "tags": []
   },
   "outputs": [
    {
     "name": "stdout",
     "output_type": "stream",
     "text": [
      "Datos insertados correctamente en marca.\n"
     ]
    }
   ],
   "source": [
    "insert_distinct_values_into_table(conexion, distinct_values_marcas, \"marca\", \"descripcion_marca\")"
   ]
  },
  {
   "cell_type": "code",
   "execution_count": 9,
   "id": "54b3f3db",
   "metadata": {},
   "outputs": [
    {
     "data": {
      "image/png": "[encoded data removed]",
      "text/plain": [
       "<IPython.core.display.Image object>"
      ]
     },
     "execution_count": 9,
     "metadata": {},
     "output_type": "execute_result"
    }
   ],
   "source": [
    "from IPython.display import Image\n",
    "Image(filename='datos_m.png')"
   ]
  },
  {
   "cell_type": "code",
   "execution_count": 61,
   "id": "7df7a277-3f29-49f3-8b0c-4e077c21fea3",
   "metadata": {},
   "outputs": [
    {
     "name": "stdout",
     "output_type": "stream",
     "text": [
      "Datos insertados correctamente en clase.\n"
     ]
    }
   ],
   "source": [
    "insert_distinct_values_into_table(conexion, distinct_values_clases, \"clase\", \"descripcion_clase\")"
   ]
  },
  {
   "cell_type": "code",
   "execution_count": 63,
   "id": "7c06033f",
   "metadata": {},
   "outputs": [
    {
     "data": {
      "image/png": "[encoded data removed]",
      "text/plain": [
       "<IPython.core.display.Image object>"
      ]
     },
     "execution_count": 63,
     "metadata": {},
     "output_type": "execute_result"
    }
   ],
   "source": [
    "from IPython.display import Image\n",
    "Image(filename='datos_c.png')"
   ]
  },
  {
   "cell_type": "code",
   "execution_count": 65,
   "id": "4a71902b-dc01-4634-9d37-df9368b5e804",
   "metadata": {},
   "outputs": [
    {
     "name": "stdout",
     "output_type": "stream",
     "text": [
      "Datos insertados correctamente en categoria.\n"
     ]
    }
   ],
   "source": [
    "insert_distinct_values_into_table(conexion, distinct_values_categorias, \"categoria\", \"descripcion_categoria\")"
   ]
  },
  {
   "cell_type": "code",
   "execution_count": 67,
   "id": "0fbbe8fc",
   "metadata": {},
   "outputs": [
    {
     "data": {
      "image/png": "[encoded data removed]",
      "text/plain": [
       "<IPython.core.display.Image object>"
      ]
     },
     "execution_count": 67,
     "metadata": {},
     "output_type": "execute_result"
    }
   ],
   "source": [
    "from IPython.display import Image\n",
    "Image(filename='datos_ca.png')"
   ]
  },
  {
   "cell_type": "code",
   "execution_count": 69,
   "id": "35460e3a-ba5e-4cd3-9fc2-acd5a8bec878",
   "metadata": {},
   "outputs": [
    {
     "name": "stdout",
     "output_type": "stream",
     "text": [
      "Datos insertados correctamente en tipo_taxi.\n"
     ]
    }
   ],
   "source": [
    "insert_distinct_values_into_table(conexion, distinct_values_tipo_taxi, \"tipo_taxi\", \"descripcion_tipo_taxi\")"
   ]
  },
  {
   "cell_type": "code",
   "execution_count": 71,
   "id": "03314ebe",
   "metadata": {},
   "outputs": [
    {
     "data": {
      "image/png": "[encoded data removed]",
      "text/plain": [
       "<IPython.core.display.Image object>"
      ]
     },
     "execution_count": 71,
     "metadata": {},
     "output_type": "execute_result"
    }
   ],
   "source": [
    "from IPython.display import Image\n",
    "Image(filename='datos_tipo_t.png')"
   ]
  },
  {
   "cell_type": "markdown",
   "id": "62514be4-7fc4-43bc-8fbb-862a7c1ff560",
   "metadata": {},
   "source": [
    "### 3.6. Obtener los valores relacionados con su respectivo ID"
   ]
  },
  {
   "cell_type": "code",
   "execution_count": 80,
   "id": "64a389fc-0836-4393-b5cd-ab05e2345b3b",
   "metadata": {},
   "outputs": [],
   "source": [
    "import pymysql\n",
    "\n",
    "def obtener_valores_taxi(conexion):\n",
    "    try:\n",
    "        cursor = conexion.cursor()\n",
    "        select_query = '''\n",
    "        SELECT taxi_stg.placa, clase.id_clase, marca.id_marca, taxi_stg.ano_fabricacion, categoria.id_categoria, tipo_taxi.id_tipo_taxi \n",
    "        FROM taxi_stg\n",
    "        INNER JOIN clase ON taxi_stg.clase = clase.descripcion_clase\n",
    "        INNER JOIN marca ON taxi_stg.marca = marca.descripcion_marca\n",
    "        INNER JOIN categoria ON taxi_stg.categoria = categoria.descripcion_categoria\n",
    "        INNER JOIN tipo_taxi ON taxi_stg.tipo_taxi = tipo_taxi.descripcion_tipo_taxi;\n",
    "        '''\n",
    "        cursor.execute(select_query)\n",
    "        values = cursor.fetchall()\n",
    "        cursor.close()  # Cierra el cursor después de obtener los valores\n",
    "        return tuple(values)\n",
    "\n",
    "    except Exception as e:\n",
    "        print(f\"Error al obtener valores distintos: {e}\")\n",
    "        return []\n"
   ]
  },
  {
   "cell_type": "code",
   "execution_count": 90,
   "id": "02f30de3-7f57-4ef1-93ce-aceeedcf794b",
   "metadata": {},
   "outputs": [
    {
     "data": {
      "text/plain": [
       "(('AP-000024', 1, 1, 1990, 1, 1),\n",
       " ('AP-000024', 1, 47, 1990, 1, 1),\n",
       " ('AP-000033', 1, 2, 1990, 1, 1),\n",
       " ('AP-000033', 1, 48, 1990, 1, 1),\n",
       " ('AP-000035', 1, 2, 1990, 1, 1),\n",
       " ('AP-000035', 1, 48, 1990, 1, 1),\n",
       " ('AP-000049', 1, 3, 1990, 1, 1),\n",
       " ('AP-000049', 1, 49, 1990, 1, 1),\n",
       " ('AP-000074', 1, 2, 1990, 1, 1),\n",
       " ('AP-000074', 1, 48, 1990, 1, 1),\n",
       " ('AP-000119', 1, 1, 1987, 1, 1),\n",
       " ('AP-000119', 1, 47, 1987, 1, 1),\n",
       " ('AP-000136', 1, 2, 1990, 1, 1),\n",
       " ('AP-000136', 1, 48, 1990, 1, 1),\n",
       " ('AP-000145', 1, 1, 1990, 1, 1),\n",
       " ('AP-000145', 1, 47, 1990, 1, 1),\n",
       " ('AP-000201', 1, 1, 1990, 1, 1),\n",
       " ('AP-000201', 1, 47, 1990, 1, 1),\n",
       " ('AP-000216', 1, 1, 1990, 1, 1),\n",
       " ('AP-000216', 1, 47, 1990, 1, 1),\n",
       " ('AP-000239', 1, 2, 1990, 1, 1),\n",
       " ('AP-000239', 1, 48, 1990, 1, 1),\n",
       " ('TAP-000002', 1, 1, 2014, 1, 1),\n",
       " ('TAP-000002', 1, 47, 2014, 1, 1),\n",
       " ('TAP-000003', 1, 1, 2014, 2, 2),\n",
       " ('TAP-000003', 1, 47, 2014, 2, 2),\n",
       " ('TAP-000004', 1, 1, 2014, 1, 1),\n",
       " ('TAP-000004', 1, 47, 2014, 1, 1),\n",
       " ('TAP-000005', 1, 2, 2014, 2, 2),\n",
       " ('TAP-000005', 1, 48, 2014, 2, 2),\n",
       " ('TAP-000006', 1, 1, 2014, 1, 1),\n",
       " ('TAP-000006', 1, 47, 2014, 1, 1),\n",
       " ('TAP-000007', 1, 1, 2014, 1, 2),\n",
       " ('TAP-000007', 1, 47, 2014, 1, 2),\n",
       " ('TAP-000008', 1, 1, 2014, 1, 1),\n",
       " ('TAP-000008', 1, 47, 2014, 1, 1),\n",
       " ('TAP-000009', 1, 1, 2014, 2, 2),\n",
       " ('TAP-000009', 1, 47, 2014, 2, 2),\n",
       " ('TAP-000010', 1, 1, 2014, 1, 1),\n",
       " ('TAP-000010', 1, 47, 2014, 1, 1),\n",
       " ('TAP-000011', 1, 1, 2014, 2, 2),\n",
       " ('TAP-000011', 1, 47, 2014, 2, 2),\n",
       " ('TAP-000012', 1, 1, 2014, 2, 2),\n",
       " ('TAP-000012', 1, 47, 2014, 2, 2),\n",
       " ('TAP-000014', 1, 1, 2014, 1, 2),\n",
       " ('TAP-000014', 1, 47, 2014, 1, 2),\n",
       " ('TAP-000015', 1, 1, 2014, 1, 1),\n",
       " ('TAP-000015', 1, 47, 2014, 1, 1),\n",
       " ('TAP-000017', 1, 1, 2014, 1, 1),\n",
       " ('TAP-000017', 1, 47, 2014, 1, 1),\n",
       " ('TAP-000018', 1, 1, 2014, 1, 1),\n",
       " ('TAP-000018', 1, 47, 2014, 1, 1),\n",
       " ('TAP-000020', 1, 1, 2014, 1, 1),\n",
       " ('TAP-000020', 1, 47, 2014, 1, 1),\n",
       " ('TAP-000021', 1, 1, 2014, 1, 1),\n",
       " ('TAP-000021', 1, 47, 2014, 1, 1),\n",
       " ('TAP-000022', 1, 1, 2014, 2, 2),\n",
       " ('TAP-000022', 1, 47, 2014, 2, 2),\n",
       " ('TAP-000023', 1, 2, 2013, 2, 2),\n",
       " ('TAP-000023', 1, 48, 2013, 2, 2),\n",
       " ('TAP-000024', 1, 1, 2014, 1, 1),\n",
       " ('TAP-000024', 1, 47, 2014, 1, 1),\n",
       " ('TAP-000026', 1, 1, 2014, 1, 1),\n",
       " ('TAP-000026', 1, 47, 2014, 1, 1),\n",
       " ('TAP-000028', 1, 1, 2014, 1, 1),\n",
       " ('TAP-000028', 1, 47, 2014, 1, 1),\n",
       " ('TAP-000029', 1, 1, 2014, 2, 2),\n",
       " ('TAP-000029', 1, 47, 2014, 2, 2),\n",
       " ('TAP-000030', 1, 1, 2014, 2, 2),\n",
       " ('TAP-000030', 1, 47, 2014, 2, 2),\n",
       " ('TAP-000031', 1, 1, 2014, 1, 1),\n",
       " ('TAP-000031', 1, 47, 2014, 1, 1),\n",
       " ('TAP-000033', 1, 1, 2014, 1, 1),\n",
       " ('TAP-000033', 1, 47, 2014, 1, 1),\n",
       " ('TAP-000034', 1, 1, 2014, 1, 1),\n",
       " ('TAP-000034', 1, 47, 2014, 1, 1),\n",
       " ('TAP-000035', 1, 1, 2014, 1, 1),\n",
       " ('TAP-000035', 1, 47, 2014, 1, 1),\n",
       " ('TAP-000036', 1, 1, 2014, 2, 2),\n",
       " ('TAP-000036', 1, 47, 2014, 2, 2),\n",
       " ('TAP-000037', 1, 1, 2014, 1, 2),\n",
       " ('TAP-000037', 1, 47, 2014, 1, 2),\n",
       " ('TAP-000038', 1, 1, 2014, 2, 2),\n",
       " ('TAP-000038', 1, 47, 2014, 2, 2),\n",
       " ('TAP-000046', 1, 1, 2013, 1, 1),\n",
       " ('TAP-000046', 1, 47, 2013, 1, 1),\n",
       " ('TAP-000047', 1, 4, 2014, 1, 1),\n",
       " ('TAP-000047', 1, 50, 2014, 1, 1),\n",
       " ('TAP-000048', 1, 1, 2017, 2, 2),\n",
       " ('TAP-000048', 1, 47, 2017, 2, 2),\n",
       " ('TAP-000049', 1, 1, 2017, 1, 1),\n",
       " ('TAP-000049', 1, 47, 2017, 1, 1),\n",
       " ('TAP-000051', 1, 1, 2017, 2, 2),\n",
       " ('TAP-000051', 1, 47, 2017, 2, 2),\n",
       " ('TAP-000052', 1, 5, 2013, 2, 2),\n",
       " ('TAP-000052', 1, 51, 2013, 2, 2),\n",
       " ('TAP-000053', 1, 2, 2018, 2, 2),\n",
       " ('TAP-000053', 1, 48, 2018, 2, 2),\n",
       " ('TAP-000054', 1, 1, 2014, 2, 2),\n",
       " ('TAP-000054', 1, 47, 2014, 2, 2),\n",
       " ('TAP-000055', 1, 2, 2017, 1, 1),\n",
       " ('TAP-000055', 1, 48, 2017, 1, 1),\n",
       " ('TAP-000056', 1, 1, 2014, 1, 1),\n",
       " ('TAP-000056', 1, 47, 2014, 1, 1),\n",
       " ('TAP-000057', 1, 1, 2018, 1, 1),\n",
       " ('TAP-000057', 1, 47, 2018, 1, 1),\n",
       " ('TAP-000058', 1, 1, 2017, 2, 2),\n",
       " ('TAP-000058', 1, 47, 2017, 2, 2),\n",
       " ('TAP-000059', 1, 1, 2017, 2, 2),\n",
       " ('TAP-000059', 1, 47, 2017, 2, 2),\n",
       " ('TAP-000061', 1, 1, 2018, 2, 2),\n",
       " ('TAP-000061', 1, 47, 2018, 2, 2),\n",
       " ('TAP-000062', 1, 1, 2013, 1, 1),\n",
       " ('TAP-000062', 1, 47, 2013, 1, 1),\n",
       " ('TAP-000063', 1, 1, 2017, 1, 1),\n",
       " ('TAP-000063', 1, 47, 2017, 1, 1),\n",
       " ('TAP-000064', 1, 1, 2014, 2, 2),\n",
       " ('TAP-000064', 1, 47, 2014, 2, 2),\n",
       " ('TAP-000065', 1, 1, 2014, 1, 1),\n",
       " ('TAP-000065', 1, 47, 2014, 1, 1),\n",
       " ('TAP-000066', 1, 1, 2017, 1, 1),\n",
       " ('TAP-000066', 1, 47, 2017, 1, 1),\n",
       " ('TAP-000067', 1, 4, 2014, 1, 1),\n",
       " ('TAP-000067', 1, 50, 2014, 1, 1),\n",
       " ('TAP-000070', 1, 1, 2017, 1, 1),\n",
       " ('TAP-000070', 1, 47, 2017, 1, 1),\n",
       " ('TAP-000071', 1, 1, 2013, 1, 1),\n",
       " ('TAP-000071', 1, 47, 2013, 1, 1),\n",
       " ('TAP-000073', 1, 1, 2017, 1, 1),\n",
       " ('TAP-000073', 1, 47, 2017, 1, 1),\n",
       " ('TAP-000075', 1, 1, 2017, 1, 1),\n",
       " ('TAP-000075', 1, 47, 2017, 1, 1),\n",
       " ('TAP-000076', 1, 1, 2017, 2, 2),\n",
       " ('TAP-000076', 1, 47, 2017, 2, 2),\n",
       " ('TAP-000077', 1, 1, 2017, 1, 1),\n",
       " ('TAP-000077', 1, 47, 2017, 1, 1),\n",
       " ('TAP-000078', 1, 1, 2017, 1, 1),\n",
       " ('TAP-000078', 1, 47, 2017, 1, 1),\n",
       " ('TAP-000080', 1, 2, 2018, 1, 1),\n",
       " ('TAP-000080', 1, 48, 2018, 1, 1),\n",
       " ('TAP-000081', 1, 2, 2018, 1, 1),\n",
       " ('TAP-000081', 1, 48, 2018, 1, 1),\n",
       " ('TAP-000082', 1, 1, 2017, 1, 1),\n",
       " ('TAP-000082', 1, 47, 2017, 1, 1),\n",
       " ('TAP-000083', 1, 1, 2017, 1, 1),\n",
       " ('TAP-000083', 1, 47, 2017, 1, 1),\n",
       " ('TAP-000084', 1, 1, 2018, 2, 2),\n",
       " ('TAP-000084', 1, 47, 2018, 2, 2),\n",
       " ('TAP-000085', 1, 2, 2018, 2, 2),\n",
       " ('TAP-000085', 1, 48, 2018, 2, 2),\n",
       " ('TAP-000086', 1, 1, 2014, 1, 1),\n",
       " ('TAP-000086', 1, 47, 2014, 1, 1),\n",
       " ('TAP-000087', 1, 2, 2015, 2, 2),\n",
       " ('TAP-000087', 1, 48, 2015, 2, 2),\n",
       " ('TAP-000088', 1, 1, 2018, 1, 1),\n",
       " ('TAP-000088', 1, 47, 2018, 1, 1),\n",
       " ('TAP-000090', 1, 1, 2018, 1, 2),\n",
       " ('TAP-000090', 1, 47, 2018, 1, 2),\n",
       " ('TAP-000091', 1, 1, 2019, 1, 1),\n",
       " ('TAP-000091', 1, 47, 2019, 1, 1),\n",
       " ('TAP-000092', 1, 6, 2016, 1, 1),\n",
       " ('TAP-000092', 1, 52, 2016, 1, 1),\n",
       " ('TAP-000093', 1, 2, 2018, 1, 1),\n",
       " ('TAP-000093', 1, 48, 2018, 1, 1),\n",
       " ('TAP-000095', 1, 2, 2019, 2, 2),\n",
       " ('TAP-000095', 1, 48, 2019, 2, 2),\n",
       " ('TAP-000096', 1, 2, 2018, 1, 1),\n",
       " ('TAP-000096', 1, 48, 2018, 1, 1),\n",
       " ('TAP-000097', 1, 2, 2018, 1, 1),\n",
       " ('TAP-000097', 1, 48, 2018, 1, 1),\n",
       " ('TAP-000098', 1, 2, 2019, 2, 2),\n",
       " ('TAP-000098', 1, 48, 2019, 2, 2),\n",
       " ('TAP-000099', 1, 1, 2019, 1, 1),\n",
       " ('TAP-000099', 1, 47, 2019, 1, 1),\n",
       " ('TAP-000100', 1, 1, 2018, 1, 2),\n",
       " ('TAP-000100', 1, 47, 2018, 1, 2),\n",
       " ('TAP-000101', 1, 1, 2018, 1, 2),\n",
       " ('TAP-000101', 1, 47, 2018, 1, 2),\n",
       " ('TAP-000102', 1, 1, 2019, 2, 2),\n",
       " ('TAP-000102', 1, 47, 2019, 2, 2),\n",
       " ('TA-000001', 2, 7, 2010, 1, 3),\n",
       " ('TA-000001', 2, 53, 2010, 1, 3),\n",
       " ('TA-000002', 2, 8, 2013, 3, 3),\n",
       " ('TA-000002', 2, 54, 2013, 3, 3),\n",
       " ('TA-000004', 2, 5, 2015, 1, 1),\n",
       " ('TA-000004', 2, 51, 2015, 1, 1),\n",
       " ('TA-000005', 2, 1, 2006, 1, 1),\n",
       " ('TA-000005', 2, 47, 2006, 1, 1),\n",
       " ('TA-000006', 2, 1, 2012, 1, 1),\n",
       " ('TA-000006', 2, 47, 2012, 1, 1),\n",
       " ('TA-000007', 2, 1, 2008, 1, 1),\n",
       " ('TA-000007', 2, 47, 2008, 1, 1),\n",
       " ('TA-000008', 2, 1, 2007, 1, 1),\n",
       " ('TA-000008', 2, 47, 2007, 1, 1),\n",
       " ('TA-000009', 2, 1, 2008, 1, 1),\n",
       " ('TA-000009', 2, 47, 2008, 1, 1),\n",
       " ('TA-000010', 2, 5, 2003, 1, 1),\n",
       " ('TA-000010', 2, 51, 2003, 1, 1),\n",
       " ('TA-000011', 2, 1, 2008, 1, 1),\n",
       " ('TA-000011', 2, 47, 2008, 1, 1),\n",
       " ('TA-000012', 2, 1, 2009, 1, 1),\n",
       " ('TA-000012', 2, 47, 2009, 1, 1),\n",
       " ('TA-000013', 2, 1, 2009, 1, 1),\n",
       " ('TA-000013', 2, 47, 2009, 1, 1),\n",
       " ('TA-000014', 2, 1, 2009, 1, 1),\n",
       " ('TA-000014', 2, 47, 2009, 1, 1),\n",
       " ('TA-000015', 2, 1, 2012, 1, 1),\n",
       " ('TA-000015', 2, 47, 2012, 1, 1),\n",
       " ('TA-000017', 2, 1, 2013, 1, 1),\n",
       " ('TA-000017', 2, 47, 2013, 1, 1),\n",
       " ('TA-000018', 2, 5, 2002, 1, 1),\n",
       " ('TA-000018', 2, 51, 2002, 1, 1),\n",
       " ('TA-000019', 2, 1, 2004, 4, 1),\n",
       " ('TA-000019', 2, 47, 2004, 4, 1),\n",
       " ('TA-000020', 2, 1, 2009, 1, 1),\n",
       " ('TA-000020', 2, 47, 2009, 1, 1),\n",
       " ('TA-000021', 2, 1, 2004, 1, 1),\n",
       " ('TA-000021', 2, 47, 2004, 1, 1),\n",
       " ('TA-000022', 2, 1, 2009, 1, 1),\n",
       " ('TA-000022', 2, 47, 2009, 1, 1),\n",
       " ('TA-000023', 2, 1, 2017, 1, 1),\n",
       " ('TA-000023', 2, 47, 2017, 1, 1),\n",
       " ('TA-000024', 2, 5, 2006, 1, 1),\n",
       " ('TA-000024', 2, 51, 2006, 1, 1),\n",
       " ('TA-000025', 2, 1, 2008, 1, 1),\n",
       " ('TA-000025', 2, 47, 2008, 1, 1),\n",
       " ('TA-000026', 2, 1, 2008, 1, 1),\n",
       " ('TA-000026', 2, 47, 2008, 1, 1),\n",
       " ('TA-000027', 2, 1, 2012, 1, 1),\n",
       " ('TA-000027', 2, 47, 2012, 1, 1),\n",
       " ('TA-000028', 2, 1, 2000, 1, 1),\n",
       " ('TA-000028', 2, 47, 2000, 1, 1),\n",
       " ('TA-000029', 2, 1, 2006, 1, 1),\n",
       " ('TA-000029', 2, 47, 2006, 1, 1),\n",
       " ('TA-000030', 2, 1, 2005, 1, 1),\n",
       " ('TA-000030', 2, 47, 2005, 1, 1),\n",
       " ('TA-000031', 2, 1, 2006, 1, 1),\n",
       " ('TA-000031', 2, 47, 2006, 1, 1),\n",
       " ('TA-000032', 2, 5, 2010, 1, 1),\n",
       " ('TA-000032', 2, 51, 2010, 1, 1),\n",
       " ('TA-000033', 2, 1, 2006, 1, 1),\n",
       " ('TA-000033', 2, 47, 2006, 1, 1),\n",
       " ('TA-000034', 2, 1, 2007, 1, 1),\n",
       " ('TA-000034', 2, 47, 2007, 1, 1),\n",
       " ('TA-000035', 2, 5, 2013, 1, 1),\n",
       " ('TA-000035', 2, 51, 2013, 1, 1),\n",
       " ('TA-000036', 2, 1, 2005, 1, 1),\n",
       " ('TA-000036', 2, 47, 2005, 1, 1),\n",
       " ('TA-000037', 2, 1, 2005, 1, 1),\n",
       " ('TA-000037', 2, 47, 2005, 1, 1),\n",
       " ('TA-000038', 2, 5, 2012, 1, 1),\n",
       " ('TA-000038', 2, 51, 2012, 1, 1),\n",
       " ('TA-000040', 2, 1, 2005, 1, 1),\n",
       " ('TA-000040', 2, 47, 2005, 1, 1),\n",
       " ('TA-000041', 2, 1, 2008, 1, 1),\n",
       " ('TA-000041', 2, 47, 2008, 1, 1),\n",
       " ('TA-000042', 2, 1, 2009, 1, 1),\n",
       " ('TA-000042', 2, 47, 2009, 1, 1),\n",
       " ('TA-000043', 2, 1, 2005, 1, 1),\n",
       " ('TA-000043', 2, 47, 2005, 1, 1),\n",
       " ('TA-000044', 2, 2, 2005, 1, 1),\n",
       " ('TA-000044', 2, 48, 2005, 1, 1),\n",
       " ('TA-000045', 2, 1, 2006, 1, 1),\n",
       " ('TA-000045', 2, 47, 2006, 1, 1),\n",
       " ('TA-000046', 2, 1, 2007, 1, 3),\n",
       " ('TA-000046', 2, 47, 2007, 1, 3),\n",
       " ('TA-000047', 2, 1, 2007, 1, 1),\n",
       " ('TA-000047', 2, 47, 2007, 1, 1),\n",
       " ('TA-000048', 2, 1, 2009, 1, 1),\n",
       " ('TA-000048', 2, 47, 2009, 1, 1),\n",
       " ('TA-000049', 2, 1, 2005, 1, 1),\n",
       " ('TA-000049', 2, 47, 2005, 1, 1),\n",
       " ('TA-000050', 2, 1, 2005, 1, 1),\n",
       " ('TA-000050', 2, 47, 2005, 1, 1),\n",
       " ('TA-000051', 2, 1, 2009, 1, 1),\n",
       " ('TA-000051', 2, 47, 2009, 1, 1),\n",
       " ('TA-000052', 2, 1, 2011, 1, 1),\n",
       " ('TA-000052', 2, 47, 2011, 1, 1),\n",
       " ('TA-000053', 2, 1, 2008, 1, 1),\n",
       " ('TA-000053', 2, 47, 2008, 1, 1),\n",
       " ('TA-000054', 2, 1, 2009, 1, 1),\n",
       " ('TA-000054', 2, 47, 2009, 1, 1),\n",
       " ('TA-000055', 2, 1, 2006, 1, 1),\n",
       " ('TA-000055', 2, 47, 2006, 1, 1),\n",
       " ('TA-000056', 2, 1, 2011, 1, 1),\n",
       " ('TA-000056', 2, 47, 2011, 1, 1),\n",
       " ('TA-000057', 2, 8, 1987, 1, 3),\n",
       " ('TA-000057', 2, 54, 1987, 1, 3),\n",
       " ('TA-000058', 2, 1, 2005, 1, 1),\n",
       " ('TA-000058', 2, 47, 2005, 1, 1),\n",
       " ('TA-000059', 2, 1, 2011, 1, 1),\n",
       " ('TA-000059', 2, 47, 2011, 1, 1),\n",
       " ('TA-000061', 2, 1, 2009, 1, 1),\n",
       " ('TA-000061', 2, 47, 2009, 1, 1),\n",
       " ('TA-000062', 2, 1, 2007, 1, 1),\n",
       " ('TA-000062', 2, 47, 2007, 1, 1),\n",
       " ('TA-000063', 2, 1, 2005, 1, 1),\n",
       " ('TA-000063', 2, 47, 2005, 1, 1),\n",
       " ('TA-000064', 2, 1, 2006, 1, 1),\n",
       " ('TA-000064', 2, 47, 2006, 1, 1),\n",
       " ('TA-000065', 2, 7, 2010, 1, 3),\n",
       " ('TA-000065', 2, 53, 2010, 1, 3),\n",
       " ('TA-000067', 2, 1, 2005, 1, 1),\n",
       " ('TA-000067', 2, 47, 2005, 1, 1),\n",
       " ('TA-000068', 2, 1, 2008, 1, 1),\n",
       " ('TA-000068', 2, 47, 2008, 1, 1),\n",
       " ('TA-000069', 2, 2, 2012, 1, 1),\n",
       " ('TA-000069', 2, 48, 2012, 1, 1),\n",
       " ('TA-000070', 2, 1, 2008, 1, 1),\n",
       " ('TA-000070', 2, 47, 2008, 1, 1),\n",
       " ('TA-000071', 2, 1, 2012, 1, 1),\n",
       " ('TA-000071', 2, 47, 2012, 1, 1),\n",
       " ('TA-000072', 2, 1, 2008, 1, 1),\n",
       " ('TA-000072', 2, 47, 2008, 1, 1),\n",
       " ('TA-000073', 2, 1, 2007, 1, 1),\n",
       " ('TA-000073', 2, 47, 2007, 1, 1),\n",
       " ('TA-000074', 2, 1, 2007, 1, 1),\n",
       " ('TA-000074', 2, 47, 2007, 1, 1),\n",
       " ('TA-000075', 2, 1, 2004, 1, 1),\n",
       " ('TA-000075', 2, 47, 2004, 1, 1),\n",
       " ('TA-000077', 2, 1, 2005, 1, 1),\n",
       " ('TA-000077', 2, 47, 2005, 1, 1),\n",
       " ('TA-000078', 2, 1, 2007, 1, 1),\n",
       " ('TA-000078', 2, 47, 2007, 1, 1),\n",
       " ('TA-000079', 2, 1, 2018, 1, 1),\n",
       " ('TA-000079', 2, 47, 2018, 1, 1),\n",
       " ('TA-000080', 2, 9, 2006, 1, 1),\n",
       " ('TA-000080', 2, 55, 2006, 1, 1),\n",
       " ('TA-000081', 2, 5, 2009, 1, 1),\n",
       " ('TA-000081', 2, 51, 2009, 1, 1),\n",
       " ('TA-000082', 2, 1, 2006, 1, 1),\n",
       " ('TA-000082', 2, 47, 2006, 1, 1),\n",
       " ('TA-000083', 2, 1, 2005, 4, 1),\n",
       " ('TA-000083', 2, 47, 2005, 4, 1),\n",
       " ('TA-000084', 2, 5, 2005, 1, 1),\n",
       " ('TA-000084', 2, 51, 2005, 1, 1),\n",
       " ('TA-000085', 2, 1, 2006, 1, 1),\n",
       " ('TA-000085', 2, 47, 2006, 1, 1),\n",
       " ('TA-000086', 2, 1, 2004, 1, 1),\n",
       " ('TA-000086', 2, 47, 2004, 1, 1),\n",
       " ('TA-000087', 2, 1, 2008, 1, 1),\n",
       " ('TA-000087', 2, 47, 2008, 1, 1),\n",
       " ('TA-000088', 2, 5, 1996, 1, 1),\n",
       " ('TA-000088', 2, 51, 1996, 1, 1),\n",
       " ('TA-000089', 2, 1, 2005, 1, 1),\n",
       " ('TA-000089', 2, 47, 2005, 1, 1),\n",
       " ('TA-000090', 2, 1, 2006, 1, 1),\n",
       " ('TA-000090', 2, 47, 2006, 1, 1),\n",
       " ('TA-000091', 2, 5, 2004, 1, 1),\n",
       " ('TA-000091', 2, 51, 2004, 1, 1),\n",
       " ('TA-000092', 2, 1, 2017, 1, 1),\n",
       " ('TA-000092', 2, 47, 2017, 1, 1),\n",
       " ('TA-000093', 2, 1, 2007, 1, 1),\n",
       " ('TA-000093', 2, 47, 2007, 1, 1),\n",
       " ('TA-000094', 2, 7, 2005, 1, 3),\n",
       " ('TA-000094', 2, 53, 2005, 1, 3),\n",
       " ('TA-000096', 2, 1, 2008, 1, 1),\n",
       " ('TA-000096', 2, 47, 2008, 1, 1),\n",
       " ('TA-000097', 2, 2, 2012, 1, 1),\n",
       " ('TA-000097', 2, 48, 2012, 1, 1),\n",
       " ('TA-000098', 2, 1, 2007, 1, 1),\n",
       " ('TA-000098', 2, 47, 2007, 1, 1),\n",
       " ('TA-000099', 2, 1, 2007, 1, 1),\n",
       " ('TA-000099', 2, 47, 2007, 1, 1),\n",
       " ('TA-000100', 2, 10, 2014, 1, 1),\n",
       " ('TA-000100', 2, 56, 2014, 1, 1),\n",
       " ('TA-000101', 2, 1, 2005, 1, 1),\n",
       " ('TA-000101', 2, 47, 2005, 1, 1),\n",
       " ('TA-000102', 2, 1, 2008, 1, 1),\n",
       " ('TA-000102', 2, 47, 2008, 1, 1),\n",
       " ('TA-000103', 2, 9, 2006, 1, 1),\n",
       " ('TA-000103', 2, 55, 2006, 1, 1),\n",
       " ('TA-000104', 2, 5, 2001, 1, 1),\n",
       " ('TA-000104', 2, 51, 2001, 1, 1),\n",
       " ('TA-000105', 2, 1, 2007, 1, 1),\n",
       " ('TA-000105', 2, 47, 2007, 1, 1),\n",
       " ('TA-000106', 2, 2, 2006, 3, 3),\n",
       " ('TA-000106', 2, 48, 2006, 3, 3),\n",
       " ('TA-000107', 2, 1, 2013, 1, 1),\n",
       " ('TA-000107', 2, 47, 2013, 1, 1),\n",
       " ('TA-000109', 2, 1, 2007, 1, 1),\n",
       " ('TA-000109', 2, 47, 2007, 1, 1),\n",
       " ('TA-000110', 2, 7, 2008, 1, 3),\n",
       " ('TA-000110', 2, 53, 2008, 1, 3),\n",
       " ('TA-000111', 2, 1, 2008, 1, 1),\n",
       " ('TA-000111', 2, 47, 2008, 1, 1),\n",
       " ('TA-000112', 2, 1, 2006, 1, 1),\n",
       " ('TA-000112', 2, 47, 2006, 1, 1),\n",
       " ('TA-000113', 2, 1, 2011, 1, 1),\n",
       " ('TA-000113', 2, 47, 2011, 1, 1),\n",
       " ('TA-000114', 2, 1, 2008, 1, 1),\n",
       " ('TA-000114', 2, 47, 2008, 1, 1),\n",
       " ('TA-000115', 2, 1, 2004, 1, 1),\n",
       " ('TA-000115', 2, 47, 2004, 1, 1),\n",
       " ('TA-000116', 2, 1, 2001, 1, 1),\n",
       " ('TA-000116', 2, 47, 2001, 1, 1),\n",
       " ('TA-000117', 2, 1, 2005, 4, 1),\n",
       " ('TA-000117', 2, 47, 2005, 4, 1),\n",
       " ('TA-000118', 2, 1, 2016, 1, 1),\n",
       " ('TA-000118', 2, 47, 2016, 1, 1),\n",
       " ('TA-000120', 2, 8, 2008, 3, 3),\n",
       " ('TA-000120', 2, 54, 2008, 3, 3),\n",
       " ('TA-000121', 2, 1, 2012, 1, 1),\n",
       " ('TA-000121', 2, 47, 2012, 1, 1),\n",
       " ('TA-000122', 2, 11, 2008, 1, 1),\n",
       " ('TA-000122', 2, 57, 2008, 1, 1),\n",
       " ('TA-000123', 2, 1, 2006, 1, 1),\n",
       " ('TA-000123', 2, 47, 2006, 1, 1),\n",
       " ('TA-000124', 2, 1, 2012, 1, 1),\n",
       " ('TA-000124', 2, 47, 2012, 1, 1),\n",
       " ('TA-000125', 2, 1, 2004, 1, 1),\n",
       " ('TA-000125', 2, 47, 2004, 1, 1),\n",
       " ('TA-000126', 2, 1, 2007, 1, 1),\n",
       " ('TA-000126', 2, 47, 2007, 1, 1),\n",
       " ('TA-000127', 2, 5, 2008, 1, 1),\n",
       " ('TA-000127', 2, 51, 2008, 1, 1),\n",
       " ('TA-000128', 2, 1, 2010, 1, 1),\n",
       " ('TA-000128', 2, 47, 2010, 1, 1),\n",
       " ('TA-000129', 2, 1, 2007, 1, 1),\n",
       " ('TA-000129', 2, 47, 2007, 1, 1),\n",
       " ('TA-000130', 2, 1, 2007, 1, 1),\n",
       " ('TA-000130', 2, 47, 2007, 1, 1),\n",
       " ('TA-000131', 2, 1, 2012, 1, 1),\n",
       " ('TA-000131', 2, 47, 2012, 1, 1),\n",
       " ('TA-000132', 2, 1, 2014, 1, 1),\n",
       " ('TA-000132', 2, 47, 2014, 1, 1),\n",
       " ('TA-000133', 2, 1, 2005, 1, 1),\n",
       " ('TA-000133', 2, 47, 2005, 1, 1),\n",
       " ('TA-000134', 2, 1, 2006, 1, 1),\n",
       " ('TA-000134', 2, 47, 2006, 1, 1),\n",
       " ('TA-000136', 2, 7, 2005, 1, 3),\n",
       " ('TA-000136', 2, 53, 2005, 1, 3),\n",
       " ('TA-000137', 2, 1, 2008, 1, 1),\n",
       " ('TA-000137', 2, 47, 2008, 1, 1),\n",
       " ('TA-000138', 2, 1, 2007, 1, 1),\n",
       " ('TA-000138', 2, 47, 2007, 1, 1),\n",
       " ('TA-000139', 2, 1, 2017, 1, 1),\n",
       " ('TA-000139', 2, 47, 2017, 1, 1),\n",
       " ('TA-000140', 2, 5, 2007, 1, 1),\n",
       " ('TA-000140', 2, 51, 2007, 1, 1),\n",
       " ('TA-000141', 2, 1, 2004, 1, 1),\n",
       " ('TA-000141', 2, 47, 2004, 1, 1),\n",
       " ('TA-000142', 2, 5, 2004, 1, 1),\n",
       " ('TA-000142', 2, 51, 2004, 1, 1),\n",
       " ('TA-000143', 2, 5, 2005, 1, 1),\n",
       " ('TA-000143', 2, 51, 2005, 1, 1),\n",
       " ('TA-000144', 2, 7, 2009, 1, 3),\n",
       " ('TA-000144', 2, 53, 2009, 1, 3),\n",
       " ('TA-000145', 2, 1, 2006, 3, 3),\n",
       " ('TA-000145', 2, 47, 2006, 3, 3),\n",
       " ('TA-000146', 2, 1, 2008, 1, 1),\n",
       " ('TA-000146', 2, 47, 2008, 1, 1),\n",
       " ('TA-000147', 2, 1, 2008, 1, 1),\n",
       " ('TA-000147', 2, 47, 2008, 1, 1),\n",
       " ('TA-000149', 2, 1, 2007, 1, 1),\n",
       " ('TA-000149', 2, 47, 2007, 1, 1),\n",
       " ('TA-000150', 2, 12, 2008, 3, 3),\n",
       " ('TA-000150', 2, 58, 2008, 3, 3),\n",
       " ('TA-000151', 2, 1, 2017, 1, 1),\n",
       " ('TA-000151', 2, 47, 2017, 1, 1),\n",
       " ('TA-000152', 2, 1, 2006, 1, 1),\n",
       " ('TA-000152', 2, 47, 2006, 1, 1),\n",
       " ('TA-000153', 2, 1, 2005, 1, 3),\n",
       " ('TA-000153', 2, 47, 2005, 1, 3),\n",
       " ('TA-000154', 2, 1, 2007, 1, 1),\n",
       " ('TA-000154', 2, 47, 2007, 1, 1),\n",
       " ('TA-000155', 2, 1, 2009, 1, 1),\n",
       " ('TA-000155', 2, 47, 2009, 1, 1),\n",
       " ('TA-000156', 2, 1, 2008, 1, 1),\n",
       " ('TA-000156', 2, 47, 2008, 1, 1),\n",
       " ('TA-000157', 2, 1, 2009, 1, 1),\n",
       " ('TA-000157', 2, 47, 2009, 1, 1),\n",
       " ('TA-000158', 2, 7, 2008, 1, 3),\n",
       " ('TA-000158', 2, 53, 2008, 1, 3),\n",
       " ('TA-000160', 2, 1, 2006, 1, 1),\n",
       " ('TA-000160', 2, 47, 2006, 1, 1),\n",
       " ('TA-000161', 2, 1, 2007, 1, 1),\n",
       " ('TA-000161', 2, 47, 2007, 1, 1),\n",
       " ('TA-000162', 2, 1, 2006, 1, 1),\n",
       " ('TA-000162', 2, 47, 2006, 1, 1),\n",
       " ('TA-000163', 2, 5, 2009, 1, 1),\n",
       " ('TA-000163', 2, 51, 2009, 1, 1),\n",
       " ('TA-000164', 2, 1, 2004, 1, 1),\n",
       " ('TA-000164', 2, 47, 2004, 1, 1),\n",
       " ('TA-000165', 2, 13, 2008, 3, 3),\n",
       " ('TA-000165', 2, 59, 2008, 3, 3),\n",
       " ('TA-000166', 2, 2, 2017, 1, 1),\n",
       " ('TA-000166', 2, 48, 2017, 1, 1),\n",
       " ('TA-000167', 2, 1, 2004, 1, 1),\n",
       " ('TA-000167', 2, 47, 2004, 1, 1),\n",
       " ('TA-000168', 2, 1, 2006, 1, 1),\n",
       " ('TA-000168', 2, 47, 2006, 1, 1),\n",
       " ('TA-000169', 2, 1, 2004, 1, 3),\n",
       " ('TA-000169', 2, 47, 2004, 1, 3),\n",
       " ('TA-000171', 2, 1, 2005, 1, 1),\n",
       " ('TA-000171', 2, 47, 2005, 1, 1),\n",
       " ('TA-000172', 2, 1, 2008, 1, 1),\n",
       " ('TA-000172', 2, 47, 2008, 1, 1),\n",
       " ('TA-000173', 2, 7, 2007, 1, 3),\n",
       " ('TA-000173', 2, 53, 2007, 1, 3),\n",
       " ('TA-000174', 2, 2, 2017, 1, 1),\n",
       " ('TA-000174', 2, 48, 2017, 1, 1),\n",
       " ('TA-000175', 2, 5, 2005, 1, 1),\n",
       " ('TA-000175', 2, 51, 2005, 1, 1),\n",
       " ('TA-000176', 2, 2, 2017, 1, 1),\n",
       " ('TA-000176', 2, 48, 2017, 1, 1),\n",
       " ('TA-000177', 2, 1, 2016, 1, 1),\n",
       " ('TA-000177', 2, 47, 2016, 1, 1),\n",
       " ('TA-000178', 2, 1, 2006, 1, 1),\n",
       " ('TA-000178', 2, 47, 2006, 1, 1),\n",
       " ('TA-000179', 2, 1, 2016, 1, 1),\n",
       " ('TA-000179', 2, 47, 2016, 1, 1),\n",
       " ('TA-000180', 2, 1, 2011, 1, 1),\n",
       " ('TA-000180', 2, 47, 2011, 1, 1),\n",
       " ('TA-000181', 2, 1, 2010, 1, 1),\n",
       " ('TA-000181', 2, 47, 2010, 1, 1),\n",
       " ('TA-000182', 2, 1, 2008, 1, 1),\n",
       " ('TA-000182', 2, 47, 2008, 1, 1),\n",
       " ('TA-000183', 2, 1, 2012, 1, 3),\n",
       " ('TA-000183', 2, 47, 2012, 1, 3),\n",
       " ('TA-000184', 2, 1, 2007, 1, 1),\n",
       " ('TA-000184', 2, 47, 2007, 1, 1),\n",
       " ('TA-000186', 2, 1, 2006, 1, 1),\n",
       " ('TA-000186', 2, 47, 2006, 1, 1),\n",
       " ('TA-000187', 2, 5, 2003, 1, 1),\n",
       " ('TA-000187', 2, 51, 2003, 1, 1),\n",
       " ('TA-000188', 2, 1, 2007, 1, 1),\n",
       " ('TA-000188', 2, 47, 2007, 1, 1),\n",
       " ('TA-000189', 2, 1, 2008, 1, 1),\n",
       " ('TA-000189', 2, 47, 2008, 1, 1),\n",
       " ('TA-000190', 2, 7, 2009, 1, 3),\n",
       " ('TA-000190', 2, 53, 2009, 1, 3),\n",
       " ('TA-000191', 2, 1, 2011, 1, 1),\n",
       " ('TA-000191', 2, 47, 2011, 1, 1),\n",
       " ('TA-000192', 2, 1, 2016, 1, 1),\n",
       " ('TA-000192', 2, 47, 2016, 1, 1),\n",
       " ('TA-000193', 2, 5, 2004, 1, 1),\n",
       " ('TA-000193', 2, 51, 2004, 1, 1),\n",
       " ('TA-000194', 2, 1, 2007, 1, 1),\n",
       " ('TA-000194', 2, 47, 2007, 1, 1),\n",
       " ('TA-000195', 2, 1, 2009, 1, 1),\n",
       " ('TA-000195', 2, 47, 2009, 1, 1),\n",
       " ('TA-000196', 2, 1, 2006, 1, 1),\n",
       " ('TA-000196', 2, 47, 2006, 1, 1),\n",
       " ('TA-000197', 2, 1, 2009, 1, 1),\n",
       " ('TA-000197', 2, 47, 2009, 1, 1),\n",
       " ('TA-000198', 2, 1, 2018, 1, 1),\n",
       " ('TA-000198', 2, 47, 2018, 1, 1),\n",
       " ('TA-000199', 2, 1, 2013, 1, 1),\n",
       " ('TA-000199', 2, 47, 2013, 1, 1),\n",
       " ('TA-000200', 2, 8, 2009, 1, 3),\n",
       " ('TA-000200', 2, 54, 2009, 1, 3),\n",
       " ('TA-000201', 2, 5, 2007, 1, 1),\n",
       " ('TA-000201', 2, 51, 2007, 1, 1),\n",
       " ('TA-000202', 2, 1, 2006, 1, 1),\n",
       " ('TA-000202', 2, 47, 2006, 1, 1),\n",
       " ('TA-000203', 2, 1, 2005, 1, 1),\n",
       " ('TA-000203', 2, 47, 2005, 1, 1),\n",
       " ('TA-000204', 2, 1, 2005, 1, 1),\n",
       " ('TA-000204', 2, 47, 2005, 1, 1),\n",
       " ('TA-000205', 2, 1, 2007, 1, 1),\n",
       " ('TA-000205', 2, 47, 2007, 1, 1),\n",
       " ('TA-000206', 2, 1, 2007, 1, 1),\n",
       " ('TA-000206', 2, 47, 2007, 1, 1),\n",
       " ('TA-000207', 2, 1, 2007, 1, 1),\n",
       " ('TA-000207', 2, 47, 2007, 1, 1),\n",
       " ('TA-000208', 2, 5, 2015, 1, 1),\n",
       " ('TA-000208', 2, 51, 2015, 1, 1),\n",
       " ('TA-000209', 2, 1, 2013, 1, 1),\n",
       " ('TA-000209', 2, 47, 2013, 1, 1),\n",
       " ('TA-000210', 2, 1, 2009, 1, 1),\n",
       " ('TA-000210', 2, 47, 2009, 1, 1),\n",
       " ('TA-000212', 2, 2, 2010, 3, 1),\n",
       " ('TA-000212', 2, 48, 2010, 3, 1),\n",
       " ('TA-000213', 2, 1, 2005, 1, 1),\n",
       " ('TA-000213', 2, 47, 2005, 1, 1),\n",
       " ('TA-000214', 2, 1, 2011, 1, 1),\n",
       " ('TA-000214', 2, 47, 2011, 1, 1),\n",
       " ('TA-000216', 2, 1, 2009, 1, 1),\n",
       " ('TA-000216', 2, 47, 2009, 1, 1),\n",
       " ('TA-000217', 2, 7, 2006, 1, 3),\n",
       " ('TA-000217', 2, 53, 2006, 1, 3),\n",
       " ('TA-000219', 2, 2, 2008, 1, 1),\n",
       " ('TA-000219', 2, 48, 2008, 1, 1),\n",
       " ('TA-000220', 2, 1, 2005, 1, 1),\n",
       " ('TA-000220', 2, 47, 2005, 1, 1),\n",
       " ('TA-000221', 2, 2, 2008, 1, 1),\n",
       " ('TA-000221', 2, 48, 2008, 1, 1),\n",
       " ('TA-000222', 2, 1, 2008, 1, 1),\n",
       " ('TA-000222', 2, 47, 2008, 1, 1),\n",
       " ('TA-000223', 2, 1, 2006, 1, 1),\n",
       " ('TA-000223', 2, 47, 2006, 1, 1),\n",
       " ('TA-000224', 2, 1, 2007, 1, 1),\n",
       " ('TA-000224', 2, 47, 2007, 1, 1),\n",
       " ('TA-000225', 2, 5, 2006, 1, 1),\n",
       " ('TA-000225', 2, 51, 2006, 1, 1),\n",
       " ('TA-000226', 2, 1, 2007, 1, 1),\n",
       " ('TA-000226', 2, 47, 2007, 1, 1),\n",
       " ('TA-000227', 2, 1, 2006, 1, 1),\n",
       " ('TA-000227', 2, 47, 2006, 1, 1),\n",
       " ('TA-000228', 2, 1, 2004, 1, 1),\n",
       " ('TA-000228', 2, 47, 2004, 1, 1),\n",
       " ('TA-000229', 2, 5, 2015, 1, 1),\n",
       " ('TA-000229', 2, 51, 2015, 1, 1),\n",
       " ('TA-000230', 2, 2, 2016, 1, 1),\n",
       " ('TA-000230', 2, 48, 2016, 1, 1),\n",
       " ('TA-000231', 2, 1, 2007, 1, 1),\n",
       " ('TA-000231', 2, 47, 2007, 1, 1),\n",
       " ('TA-000233', 2, 8, 2008, 3, 3),\n",
       " ('TA-000233', 2, 54, 2008, 3, 3),\n",
       " ('TA-000234', 2, 1, 2016, 1, 3),\n",
       " ('TA-000234', 2, 47, 2016, 1, 3),\n",
       " ('TA-000235', 2, 1, 2009, 1, 1),\n",
       " ('TA-000235', 2, 47, 2009, 1, 1),\n",
       " ('TA-000236', 2, 1, 2017, 1, 1),\n",
       " ('TA-000236', 2, 47, 2017, 1, 1),\n",
       " ('TA-000237', 2, 2, 2008, 3, 3),\n",
       " ('TA-000237', 2, 48, 2008, 3, 3),\n",
       " ('TA-000238', 2, 1, 2008, 1, 1),\n",
       " ('TA-000238', 2, 47, 2008, 1, 1),\n",
       " ('TA-000239', 2, 8, 2016, 1, 3),\n",
       " ('TA-000239', 2, 54, 2016, 1, 3),\n",
       " ('TA-000241', 2, 1, 2007, 1, 1),\n",
       " ('TA-000241', 2, 47, 2007, 1, 1),\n",
       " ('TA-000242', 2, 1, 2008, 1, 1),\n",
       " ('TA-000242', 2, 47, 2008, 1, 1),\n",
       " ('TA-000243', 2, 1, 2007, 1, 1),\n",
       " ('TA-000243', 2, 47, 2007, 1, 1),\n",
       " ('TA-000244', 2, 1, 2008, 1, 1),\n",
       " ('TA-000244', 2, 47, 2008, 1, 1),\n",
       " ('TA-000246', 2, 5, 2006, 1, 1),\n",
       " ('TA-000246', 2, 51, 2006, 1, 1),\n",
       " ('TA-000247', 2, 1, 2008, 1, 1),\n",
       " ('TA-000247', 2, 47, 2008, 1, 1),\n",
       " ('TA-000248', 2, 1, 2008, 1, 1),\n",
       " ('TA-000248', 2, 47, 2008, 1, 1),\n",
       " ('TA-000249', 2, 8, 2007, 3, 3),\n",
       " ('TA-000249', 2, 54, 2007, 3, 3),\n",
       " ('TA-000250', 2, 1, 2006, 1, 1),\n",
       " ('TA-000250', 2, 47, 2006, 1, 1),\n",
       " ('TA-000251', 2, 5, 2013, 1, 1),\n",
       " ('TA-000251', 2, 51, 2013, 1, 1),\n",
       " ('TA-000252', 2, 2, 2005, 3, 3),\n",
       " ('TA-000252', 2, 48, 2005, 3, 3),\n",
       " ('TA-000253', 2, 1, 2009, 1, 1),\n",
       " ('TA-000253', 2, 47, 2009, 1, 1),\n",
       " ('TA-000254', 2, 1, 2009, 1, 1),\n",
       " ('TA-000254', 2, 47, 2009, 1, 1),\n",
       " ('TA-000255', 2, 1, 2006, 1, 1),\n",
       " ('TA-000255', 2, 47, 2006, 1, 1),\n",
       " ('TA-000256', 2, 5, 2006, 1, 3),\n",
       " ('TA-000256', 2, 51, 2006, 1, 3),\n",
       " ('TA-000257', 2, 1, 2010, 1, 1),\n",
       " ('TA-000257', 2, 47, 2010, 1, 1),\n",
       " ('TA-000258', 2, 14, 2006, 1, 3),\n",
       " ('TA-000258', 2, 60, 2006, 1, 3),\n",
       " ('TA-000259', 2, 1, 2009, 1, 1),\n",
       " ('TA-000259', 2, 47, 2009, 1, 1),\n",
       " ('TA-000260', 2, 1, 2008, 3, 3),\n",
       " ('TA-000260', 2, 47, 2008, 3, 3),\n",
       " ('TA-000261', 2, 12, 2015, 3, 3),\n",
       " ('TA-000261', 2, 58, 2015, 3, 3),\n",
       " ('TA-000262', 2, 5, 2004, 1, 1),\n",
       " ('TA-000262', 2, 51, 2004, 1, 1),\n",
       " ('TA-000263', 2, 5, 2005, 1, 1),\n",
       " ('TA-000263', 2, 51, 2005, 1, 1),\n",
       " ('TA-000265', 2, 5, 2005, 1, 1),\n",
       " ('TA-000265', 2, 51, 2005, 1, 1),\n",
       " ('TA-000266', 2, 5, 2008, 1, 1),\n",
       " ('TA-000266', 2, 51, 2008, 1, 1),\n",
       " ('TA-000267', 2, 1, 2009, 1, 1),\n",
       " ('TA-000267', 2, 47, 2009, 1, 1),\n",
       " ('TA-000268', 2, 15, 2009, 1, 1),\n",
       " ('TA-000268', 2, 61, 2009, 1, 1),\n",
       " ('TA-000269', 2, 7, 2009, 1, 3),\n",
       " ('TA-000269', 2, 53, 2009, 1, 3),\n",
       " ('TA-000271', 2, 1, 2017, 1, 1),\n",
       " ('TA-000271', 2, 47, 2017, 1, 1),\n",
       " ('TA-000272', 2, 1, 2008, 1, 1),\n",
       " ('TA-000272', 2, 47, 2008, 1, 1),\n",
       " ('TA-000273', 2, 1, 2011, 1, 1),\n",
       " ('TA-000273', 2, 47, 2011, 1, 1),\n",
       " ('TA-000274', 2, 1, 2008, 1, 1),\n",
       " ('TA-000274', 2, 47, 2008, 1, 1),\n",
       " ('TA-000275', 2, 5, 2007, 1, 1),\n",
       " ('TA-000275', 2, 51, 2007, 1, 1),\n",
       " ('TA-000276', 2, 1, 2008, 1, 1),\n",
       " ('TA-000276', 2, 47, 2008, 1, 1),\n",
       " ('TA-000277', 2, 1, 2006, 4, 1),\n",
       " ('TA-000277', 2, 47, 2006, 4, 1),\n",
       " ('TA-000278', 2, 1, 2005, 3, 3),\n",
       " ('TA-000278', 2, 47, 2005, 3, 3),\n",
       " ('TA-000279', 2, 1, 2007, 1, 1),\n",
       " ('TA-000279', 2, 47, 2007, 1, 1),\n",
       " ('TA-000280', 2, 5, 2006, 1, 1),\n",
       " ('TA-000280', 2, 51, 2006, 1, 1),\n",
       " ('TA-000281', 2, 1, 2008, 1, 1),\n",
       " ('TA-000281', 2, 47, 2008, 1, 1),\n",
       " ('TA-000282', 2, 1, 2008, 1, 1),\n",
       " ('TA-000282', 2, 47, 2008, 1, 1),\n",
       " ('TA-000283', 2, 9, 2010, 1, 3),\n",
       " ('TA-000283', 2, 55, 2010, 1, 3),\n",
       " ('TA-000284', 2, 2, 2009, 3, 3),\n",
       " ('TA-000284', 2, 48, 2009, 3, 3),\n",
       " ('TA-000285', 2, 2, 2012, 3, 3),\n",
       " ('TA-000285', 2, 48, 2012, 3, 3),\n",
       " ('TA-000286', 2, 1, 2018, 1, 3),\n",
       " ('TA-000286', 2, 47, 2018, 1, 3),\n",
       " ('TA-000287', 2, 2, 2009, 1, 1),\n",
       " ('TA-000287', 2, 48, 2009, 1, 1),\n",
       " ('TA-000288', 2, 5, 2007, 1, 1),\n",
       " ('TA-000288', 2, 51, 2007, 1, 1),\n",
       " ('TA-000289', 2, 1, 2007, 1, 1),\n",
       " ('TA-000289', 2, 47, 2007, 1, 1),\n",
       " ('TA-000290', 2, 1, 2009, 1, 1),\n",
       " ('TA-000290', 2, 47, 2009, 1, 1),\n",
       " ('TA-000291', 2, 7, 2011, 1, 3),\n",
       " ('TA-000291', 2, 53, 2011, 1, 3),\n",
       " ('TA-000293', 2, 1, 2004, 1, 1),\n",
       " ('TA-000293', 2, 47, 2004, 1, 1),\n",
       " ('TA-000294', 2, 1, 2006, 1, 1),\n",
       " ('TA-000294', 2, 47, 2006, 1, 1),\n",
       " ('TA-000295', 2, 1, 2005, 1, 1),\n",
       " ('TA-000295', 2, 47, 2005, 1, 1),\n",
       " ('TA-000296', 2, 1, 2007, 1, 1),\n",
       " ('TA-000296', 2, 47, 2007, 1, 1),\n",
       " ('TA-000297', 2, 1, 2006, 5, 1),\n",
       " ('TA-000297', 2, 47, 2006, 5, 1),\n",
       " ('TA-000299', 2, 1, 2010, 1, 1),\n",
       " ('TA-000299', 2, 47, 2010, 1, 1),\n",
       " ('TA-000300', 2, 5, 2007, 1, 1),\n",
       " ('TA-000300', 2, 51, 2007, 1, 1),\n",
       " ('TA-000301', 2, 2, 2011, 1, 1),\n",
       " ('TA-000301', 2, 48, 2011, 1, 1),\n",
       " ('TA-000302', 2, 1, 2011, 1, 1),\n",
       " ('TA-000302', 2, 47, 2011, 1, 1),\n",
       " ('TA-000303', 2, 1, 2008, 1, 1),\n",
       " ('TA-000303', 2, 47, 2008, 1, 1),\n",
       " ('TA-000304', 2, 1, 2008, 1, 1),\n",
       " ('TA-000304', 2, 47, 2008, 1, 1),\n",
       " ('TA-000305', 2, 1, 2012, 1, 1),\n",
       " ('TA-000305', 2, 47, 2012, 1, 1),\n",
       " ('TA-000307', 2, 1, 2017, 1, 1),\n",
       " ('TA-000307', 2, 47, 2017, 1, 1),\n",
       " ('TA-000308', 2, 5, 2005, 1, 1),\n",
       " ('TA-000308', 2, 51, 2005, 1, 1),\n",
       " ('TA-000310', 2, 2, 2005, 1, 1),\n",
       " ('TA-000310', 2, 48, 2005, 1, 1),\n",
       " ('TA-000311', 2, 1, 2006, 1, 1),\n",
       " ('TA-000311', 2, 47, 2006, 1, 1),\n",
       " ('TA-000312', 2, 5, 2004, 1, 1),\n",
       " ('TA-000312', 2, 51, 2004, 1, 1),\n",
       " ('TA-000313', 2, 1, 2006, 1, 1),\n",
       " ('TA-000313', 2, 47, 2006, 1, 1),\n",
       " ('TA-000314', 2, 1, 2012, 1, 1),\n",
       " ('TA-000314', 2, 47, 2012, 1, 1),\n",
       " ('TA-000315', 2, 5, 2008, 1, 1),\n",
       " ('TA-000315', 2, 51, 2008, 1, 1),\n",
       " ('TA-000316', 2, 1, 2008, 1, 1),\n",
       " ('TA-000316', 2, 47, 2008, 1, 1),\n",
       " ('TA-000317', 2, 1, 2013, 1, 1),\n",
       " ('TA-000317', 2, 47, 2013, 1, 1),\n",
       " ('TA-000319', 2, 1, 2010, 1, 1),\n",
       " ('TA-000319', 2, 47, 2010, 1, 1),\n",
       " ('TA-000320', 2, 1, 2009, 1, 1),\n",
       " ('TA-000320', 2, 47, 2009, 1, 1),\n",
       " ('TA-000321', 2, 8, 2008, 3, 3),\n",
       " ('TA-000321', 2, 54, 2008, 3, 3),\n",
       " ('TA-000322', 2, 1, 2006, 1, 1),\n",
       " ('TA-000322', 2, 47, 2006, 1, 1),\n",
       " ('TA-000323', 2, 5, 2006, 1, 1),\n",
       " ('TA-000323', 2, 51, 2006, 1, 1),\n",
       " ('TA-000324', 2, 13, 2007, 3, 3),\n",
       " ('TA-000324', 2, 59, 2007, 3, 3),\n",
       " ('TA-000325', 2, 1, 2012, 1, 1),\n",
       " ('TA-000325', 2, 47, 2012, 1, 1),\n",
       " ('TA-000326', 2, 1, 2012, 1, 1),\n",
       " ('TA-000326', 2, 47, 2012, 1, 1),\n",
       " ('TA-000327', 2, 1, 2006, 1, 1),\n",
       " ('TA-000327', 2, 47, 2006, 1, 1),\n",
       " ('TA-000328', 2, 1, 2005, 1, 1),\n",
       " ('TA-000328', 2, 47, 2005, 1, 1),\n",
       " ('TA-000329', 2, 5, 2010, 1, 1),\n",
       " ('TA-000329', 2, 51, 2010, 1, 1),\n",
       " ('TA-000330', 2, 1, 2006, 1, 1),\n",
       " ('TA-000330', 2, 47, 2006, 1, 1),\n",
       " ('TA-000331', 2, 1, 2012, 1, 1),\n",
       " ('TA-000331', 2, 47, 2012, 1, 1),\n",
       " ('TA-000332', 2, 2, 2005, 1, 1),\n",
       " ('TA-000332', 2, 48, 2005, 1, 1),\n",
       " ('TA-000333', 2, 1, 2004, 1, 1),\n",
       " ('TA-000333', 2, 47, 2004, 1, 1),\n",
       " ('TA-000334', 2, 1, 2007, 1, 1),\n",
       " ('TA-000334', 2, 47, 2007, 1, 1),\n",
       " ('TA-000335', 2, 5, 2008, 1, 1),\n",
       " ('TA-000335', 2, 51, 2008, 1, 1),\n",
       " ('TA-000337', 2, 1, 2017, 1, 1),\n",
       " ('TA-000337', 2, 47, 2017, 1, 1),\n",
       " ('TA-000339', 2, 5, 2006, 1, 1),\n",
       " ('TA-000339', 2, 51, 2006, 1, 1),\n",
       " ('TA-000340', 2, 1, 2009, 1, 1),\n",
       " ('TA-000340', 2, 47, 2009, 1, 1),\n",
       " ('TA-000341', 2, 5, 2005, 1, 1),\n",
       " ('TA-000341', 2, 51, 2005, 1, 1),\n",
       " ('TA-000342', 2, 1, 2014, 1, 1),\n",
       " ('TA-000342', 2, 47, 2014, 1, 1),\n",
       " ('TA-000343', 2, 1, 2014, 1, 1),\n",
       " ('TA-000343', 2, 47, 2014, 1, 1),\n",
       " ('TA-000345', 2, 8, 2009, 3, 3),\n",
       " ('TA-000345', 2, 54, 2009, 3, 3),\n",
       " ('TA-000346', 2, 1, 2010, 1, 1),\n",
       " ('TA-000346', 2, 47, 2010, 1, 1),\n",
       " ('TA-000347', 2, 2, 2005, 1, 1),\n",
       " ('TA-000347', 2, 48, 2005, 1, 1),\n",
       " ('TA-000348', 2, 13, 2018, 1, 1),\n",
       " ('TA-000348', 2, 59, 2018, 1, 1),\n",
       " ('TA-000349', 2, 1, 2007, 1, 1),\n",
       " ('TA-000349', 2, 47, 2007, 1, 1),\n",
       " ('TA-000350', 2, 2, 2017, 1, 1),\n",
       " ('TA-000350', 2, 48, 2017, 1, 1),\n",
       " ('TA-000351', 2, 5, 2009, 1, 1),\n",
       " ('TA-000351', 2, 51, 2009, 1, 1),\n",
       " ('TA-000352', 2, 1, 2012, 1, 1),\n",
       " ('TA-000352', 2, 47, 2012, 1, 1),\n",
       " ('TA-000353', 2, 1, 2007, 1, 1),\n",
       " ('TA-000353', 2, 47, 2007, 1, 1),\n",
       " ('TA-000354', 2, 11, 1995, 1, 3),\n",
       " ('TA-000354', 2, 57, 1995, 1, 3),\n",
       " ('TA-000355', 2, 5, 2004, 1, 1),\n",
       " ('TA-000355', 2, 51, 2004, 1, 1),\n",
       " ('TA-000356', 2, 1, 2009, 1, 1),\n",
       " ('TA-000356', 2, 47, 2009, 1, 1),\n",
       " ('TA-000357', 2, 5, 2005, 1, 1),\n",
       " ('TA-000357', 2, 51, 2005, 1, 1),\n",
       " ('TA-000358', 2, 1, 2009, 1, 1),\n",
       " ('TA-000358', 2, 47, 2009, 1, 1),\n",
       " ('TA-000360', 2, 1, 2014, 1, 1),\n",
       " ('TA-000360', 2, 47, 2014, 1, 1),\n",
       " ('TA-000361', 2, 1, 2006, 1, 1),\n",
       " ('TA-000361', 2, 47, 2006, 1, 1),\n",
       " ('TA-000362', 2, 5, 2012, 1, 1),\n",
       " ('TA-000362', 2, 51, 2012, 1, 1),\n",
       " ('TA-000363', 2, 1, 2008, 1, 1),\n",
       " ('TA-000363', 2, 47, 2008, 1, 1),\n",
       " ('TA-000364', 2, 5, 2006, 1, 1),\n",
       " ('TA-000364', 2, 51, 2006, 1, 1),\n",
       " ('TA-000365', 2, 8, 2007, 3, 3),\n",
       " ('TA-000365', 2, 54, 2007, 3, 3),\n",
       " ('TA-000366', 2, 1, 2005, 1, 1),\n",
       " ('TA-000366', 2, 47, 2005, 1, 1),\n",
       " ('TA-000367', 2, 1, 2007, 1, 1),\n",
       " ('TA-000367', 2, 47, 2007, 1, 1),\n",
       " ('TA-000369', 2, 1, 2004, 1, 1),\n",
       " ('TA-000369', 2, 47, 2004, 1, 1),\n",
       " ('TA-000370', 2, 1, 2012, 1, 1),\n",
       " ('TA-000370', 2, 47, 2012, 1, 1),\n",
       " ('TA-000371', 2, 12, 2003, 1, 3),\n",
       " ('TA-000371', 2, 58, 2003, 1, 3),\n",
       " ('TA-000372', 2, 1, 2013, 1, 1),\n",
       " ('TA-000372', 2, 47, 2013, 1, 1),\n",
       " ('TA-000373', 2, 1, 2014, 1, 1),\n",
       " ('TA-000373', 2, 47, 2014, 1, 1),\n",
       " ('TA-000374', 2, 1, 2008, 1, 1),\n",
       " ('TA-000374', 2, 47, 2008, 1, 1),\n",
       " ('TA-000375', 2, 1, 2005, 1, 1),\n",
       " ('TA-000375', 2, 47, 2005, 1, 1),\n",
       " ('TA-000376', 2, 5, 2011, 1, 1),\n",
       " ('TA-000376', 2, 51, 2011, 1, 1),\n",
       " ('TA-000377', 2, 1, 2006, 1, 1),\n",
       " ('TA-000377', 2, 47, 2006, 1, 1),\n",
       " ('TA-000378', 2, 1, 2014, 3, 3),\n",
       " ('TA-000378', 2, 47, 2014, 3, 3),\n",
       " ('TA-000380', 2, 5, 2006, 1, 1),\n",
       " ('TA-000380', 2, 51, 2006, 1, 1),\n",
       " ('TA-000381', 2, 1, 2005, 1, 1),\n",
       " ('TA-000381', 2, 47, 2005, 1, 1),\n",
       " ('TA-000382', 2, 1, 2012, 1, 1),\n",
       " ('TA-000382', 2, 47, 2012, 1, 1),\n",
       " ('TA-000383', 2, 5, 2008, 1, 1),\n",
       " ('TA-000383', 2, 51, 2008, 1, 1),\n",
       " ('TA-000384', 2, 1, 2012, 1, 1),\n",
       " ('TA-000384', 2, 47, 2012, 1, 1),\n",
       " ('TA-000385', 2, 1, 2008, 1, 1),\n",
       " ('TA-000385', 2, 47, 2008, 1, 1),\n",
       " ('TA-000386', 2, 5, 2005, 1, 1),\n",
       " ('TA-000386', 2, 51, 2005, 1, 1),\n",
       " ('TA-000387', 2, 8, 2006, 3, 3),\n",
       " ('TA-000387', 2, 54, 2006, 3, 3),\n",
       " ('TA-000388', 2, 1, 2007, 1, 1),\n",
       " ('TA-000388', 2, 47, 2007, 1, 1),\n",
       " ('TA-000389', 2, 2, 2015, 1, 1),\n",
       " ('TA-000389', 2, 48, 2015, 1, 1),\n",
       " ('TA-000390', 2, 1, 2004, 1, 1),\n",
       " ('TA-000390', 2, 47, 2004, 1, 1),\n",
       " ('TA-000391', 2, 1, 2007, 1, 1),\n",
       " ('TA-000391', 2, 47, 2007, 1, 1),\n",
       " ('TA-000392', 2, 2, 2005, 1, 1),\n",
       " ('TA-000392', 2, 48, 2005, 1, 1),\n",
       " ('TA-000393', 2, 7, 2003, 1, 3),\n",
       " ('TA-000393', 2, 53, 2003, 1, 3),\n",
       " ('TA-000394', 2, 1, 2008, 1, 1),\n",
       " ('TA-000394', 2, 47, 2008, 1, 1),\n",
       " ('TA-000395', 2, 1, 2005, 1, 1),\n",
       " ('TA-000395', 2, 47, 2005, 1, 1),\n",
       " ('TA-000396', 2, 7, 2006, 1, 3),\n",
       " ('TA-000396', 2, 53, 2006, 1, 3),\n",
       " ('TA-000397', 2, 2, 2004, 1, 1),\n",
       " ('TA-000397', 2, 48, 2004, 1, 1),\n",
       " ('TA-000398', 2, 1, 2014, 1, 1),\n",
       " ('TA-000398', 2, 47, 2014, 1, 1),\n",
       " ('TA-000399', 2, 1, 2004, 4, 1),\n",
       " ('TA-000399', 2, 47, 2004, 4, 1),\n",
       " ('TA-000400', 2, 5, 2006, 1, 1),\n",
       " ('TA-000400', 2, 51, 2006, 1, 1),\n",
       " ('TA-000401', 2, 5, 2004, 1, 1),\n",
       " ('TA-000401', 2, 51, 2004, 1, 1),\n",
       " ('TA-000402', 2, 5, 2001, 1, 1),\n",
       " ('TA-000402', 2, 51, 2001, 1, 1),\n",
       " ('TA-000403', 2, 1, 2008, 1, 1),\n",
       " ('TA-000403', 2, 47, 2008, 1, 1),\n",
       " ('TA-000404', 2, 2, 2016, 1, 1),\n",
       " ('TA-000404', 2, 48, 2016, 1, 1),\n",
       " ('TA-000405', 2, 5, 2013, 1, 1),\n",
       " ('TA-000405', 2, 51, 2013, 1, 1),\n",
       " ('TA-000406', 2, 1, 2009, 1, 1),\n",
       " ('TA-000406', 2, 47, 2009, 1, 1),\n",
       " ('TA-000407', 2, 5, 2008, 1, 1),\n",
       " ('TA-000407', 2, 51, 2008, 1, 1),\n",
       " ('TA-000408', 2, 1, 2014, 1, 1),\n",
       " ('TA-000408', 2, 47, 2014, 1, 1),\n",
       " ('TA-000409', 2, 5, 2016, 1, 1),\n",
       " ('TA-000409', 2, 51, 2016, 1, 1),\n",
       " ('TA-000410', 2, 1, 2007, 1, 1),\n",
       " ('TA-000410', 2, 47, 2007, 1, 1),\n",
       " ('TA-000411', 2, 5, 2008, 1, 1),\n",
       " ('TA-000411', 2, 51, 2008, 1, 1),\n",
       " ('TA-000412', 2, 5, 2005, 1, 1),\n",
       " ('TA-000412', 2, 51, 2005, 1, 1),\n",
       " ('TA-000413', 2, 16, 2009, 3, 3),\n",
       " ('TA-000413', 2, 62, 2009, 3, 3),\n",
       " ('TA-000414', 2, 1, 2008, 3, 3),\n",
       " ('TA-000414', 2, 47, 2008, 3, 3),\n",
       " ('TA-000415', 2, 1, 2004, 1, 1),\n",
       " ('TA-000415', 2, 47, 2004, 1, 1),\n",
       " ('TA-000416', 2, 5, 2004, 1, 1),\n",
       " ('TA-000416', 2, 51, 2004, 1, 1),\n",
       " ('TA-000417', 2, 1, 2009, 1, 1),\n",
       " ('TA-000417', 2, 47, 2009, 1, 1),\n",
       " ('TA-000418', 2, 5, 2004, 1, 1),\n",
       " ('TA-000418', 2, 51, 2004, 1, 1),\n",
       " ('TA-000419', 2, 1, 2005, 1, 1),\n",
       " ('TA-000419', 2, 47, 2005, 1, 1),\n",
       " ('TA-000420', 2, 1, 2008, 1, 1),\n",
       " ('TA-000420', 2, 47, 2008, 1, 1),\n",
       " ('TA-000421', 2, 5, 2010, 1, 1),\n",
       " ('TA-000421', 2, 51, 2010, 1, 1),\n",
       " ('TA-000422', 2, 5, 2006, 1, 1),\n",
       " ('TA-000422', 2, 51, 2006, 1, 1),\n",
       " ('TA-000423', 2, 1, 2007, 1, 1),\n",
       " ('TA-000423', 2, 47, 2007, 1, 1),\n",
       " ('TA-000424', 2, 5, 2005, 1, 1),\n",
       " ('TA-000424', 2, 51, 2005, 1, 1),\n",
       " ('TA-000425', 2, 1, 2007, 1, 1),\n",
       " ('TA-000425', 2, 47, 2007, 1, 1),\n",
       " ('TA-000426', 2, 1, 2005, 4, 1),\n",
       " ('TA-000426', 2, 47, 2005, 4, 1),\n",
       " ('TA-000427', 2, 1, 2006, 1, 1),\n",
       " ('TA-000427', 2, 47, 2006, 1, 1),\n",
       " ('TA-000428', 2, 1, 2015, 1, 1),\n",
       " ('TA-000428', 2, 47, 2015, 1, 1),\n",
       " ('TA-000429', 2, 1, 2008, 1, 1),\n",
       " ('TA-000429', 2, 47, 2008, 1, 1),\n",
       " ('TA-000430', 2, 5, 2006, 1, 3),\n",
       " ('TA-000430', 2, 51, 2006, 1, 3),\n",
       " ('TA-000431', 2, 1, 2005, 1, 1),\n",
       " ('TA-000431', 2, 47, 2005, 1, 1),\n",
       " ('TA-000432', 2, 5, 2009, 1, 1),\n",
       " ('TA-000432', 2, 51, 2009, 1, 1),\n",
       " ('TA-000433', 2, 5, 2004, 1, 1),\n",
       " ('TA-000433', 2, 51, 2004, 1, 1),\n",
       " ('TA-000434', 2, 1, 2012, 1, 1),\n",
       " ('TA-000434', 2, 47, 2012, 1, 1),\n",
       " ('TA-000435', 2, 8, 2008, 3, 3),\n",
       " ('TA-000435', 2, 54, 2008, 3, 3),\n",
       " ('TA-000436', 2, 1, 2012, 1, 1),\n",
       " ('TA-000436', 2, 47, 2012, 1, 1),\n",
       " ('TA-000437', 2, 1, 2003, 1, 1),\n",
       " ('TA-000437', 2, 47, 2003, 1, 1),\n",
       " ('TA-000438', 2, 1, 2003, 1, 1),\n",
       " ('TA-000438', 2, 47, 2003, 1, 1),\n",
       " ('TA-000439', 2, 1, 2013, 1, 1),\n",
       " ('TA-000439', 2, 47, 2013, 1, 1),\n",
       " ('TA-000440', 2, 1, 2005, 1, 1),\n",
       " ('TA-000440', 2, 47, 2005, 1, 1),\n",
       " ('TA-000441', 2, 2, 2009, 1, 1),\n",
       " ('TA-000441', 2, 48, 2009, 1, 1),\n",
       " ('TA-000442', 2, 1, 2010, 1, 1),\n",
       " ('TA-000442', 2, 47, 2010, 1, 1),\n",
       " ('TA-000443', 2, 5, 2003, 1, 1),\n",
       " ('TA-000443', 2, 51, 2003, 1, 1),\n",
       " ...)"
      ]
     },
     "execution_count": 90,
     "metadata": {},
     "output_type": "execute_result"
    }
   ],
   "source": [
    "valores=obtener_valores_taxi(conexion)\n",
    "valores\n"
   ]
  },
  {
   "cell_type": "markdown",
   "id": "eaa54b44-8f35-4883-888d-3c83ceb9b00f",
   "metadata": {},
   "source": [
    "### 3.7. Insertar los valores en la tabla Taxi"
   ]
  },
  {
   "cell_type": "code",
   "execution_count": null,
   "id": "32ed5d78-2a85-4ab2-bef7-cc2d881dcec9",
   "metadata": {},
   "outputs": [],
   "source": [
    "# Tabla taxi antes de la insercion "
   ]
  },
  {
   "cell_type": "code",
   "execution_count": 97,
   "id": "0b8c9b07-17f8-476f-9b5c-c8e51627d594",
   "metadata": {
    "tags": []
   },
   "outputs": [
    {
     "data": {
      "image/png": "[encoded data removed]",
      "text/plain": [
       "<IPython.core.display.Image object>"
      ]
     },
     "execution_count": 97,
     "metadata": {},
     "output_type": "execute_result"
    }
   ],
   "source": [
    "from IPython.display import Image\n",
    "Image(filename='datos_t_sin_i.png')"
   ]
  },
  {
   "cell_type": "code",
   "execution_count": 99,
   "id": "1fa7094f-d220-4f94-913d-6d78935eb1cd",
   "metadata": {},
   "outputs": [],
   "source": [
    "def insert_tabla_taxi(conexion, values):\n",
    "    try:\n",
    "        cursor = conexion.cursor()\n",
    "        insert_query = \"INSERT INTO taxi (placa, id_clase, id_marca, ano_fabricacion, id_categoria, id_tipo_taxi) VALUES (%s, %s, %s, %s, %s, %s)\"\n",
    "\n",
    "        for value in values:\n",
    "            cursor.execute(insert_query, value)\n",
    "\n",
    "        conexion.commit()\n",
    "        print(\"Datos insertados correctamente.\")\n",
    "\n",
    "    except Exception as e:\n",
    "        print(f\"Error al insertar datos: {e}\")\n",
    "    \n",
    "    finally:\n",
    "        if cursor:\n",
    "            cursor.close()\n",
    "\n",
    "def cerrar_conexion(conexion):\n",
    "    if conexion:\n",
    "        conexion.close()\n",
    "\n"
   ]
  },
  {
   "cell_type": "code",
   "execution_count": 101,
   "id": "e62ab876-fd38-496c-b87c-be8fe7be6009",
   "metadata": {},
   "outputs": [
    {
     "name": "stdout",
     "output_type": "stream",
     "text": [
      "Datos insertados correctamente.\n"
     ]
    }
   ],
   "source": [
    "insert_tabla_taxi(conexion, valores)"
   ]
  },
  {
   "cell_type": "code",
   "execution_count": 103,
   "id": "63a40d12-d534-4fcb-9f11-a50846dcf5fb",
   "metadata": {
    "tags": []
   },
   "outputs": [
    {
     "data": {
      "image/png": "[encoded data removed]",
      "text/plain": [
       "<IPython.core.display.Image object>"
      ]
     },
     "execution_count": 103,
     "metadata": {},
     "output_type": "execute_result"
    }
   ],
   "source": [
    "from IPython.display import Image\n",
    "Image(filename='datos_t_con_i.png')"
   ]
  },
  {
   "cell_type": "markdown",
   "id": "07304d64-0b38-43bf-838c-704370083862",
   "metadata": {},
   "source": [
    "Comprobar en la base de datos que se hayan insertado los datos correctamente y responder a las siguientes preguntas:"
   ]
  },
  {
   "cell_type": "markdown",
   "id": "26139f87-2228-450d-8531-203c44d905f8",
   "metadata": {},
   "source": [
    "### 1. Diseño de la Base de Datos:\n",
    "\n",
    "¿Cuál es la estructura de la base de datos utilizada en la práctica? \n",
    "\n",
    "Claro, puedo ayudarte a parafrasear la descripción de las tablas y sus relaciones. Aquí está la descripción parafraseada de las tablas y sus relaciones:\n",
    "\n",
    "1. Tabla \"categoria\": Esta tabla almacena información sobre diferentes categorías de taxis. Tiene una columna \"id_categoria\" como clave primaria, que es un identificador único para cada categoría, y una columna \"descripcion_categoria\" que proporciona la descripción de la categoría.\n",
    "\n",
    "2. Tabla \"clase\": Esta tabla tiene información sobre las clases de los taxis. Tiene una columna \"id_clase\" como clave primaria, que es un identificador único para cada clase, y una columna \"descripcion_clase\" que describe la clase de taxi.\n",
    "\n",
    "3. Tabla \"marca\": En esta tabla se guarda información acerca de las marcas de los taxis. Tiene una columna \"id_marca\" como clave primaria, que es un identificador único para cada marca, y una columna \"descripcion_marca\" que proporciona la descripción de la marca.\n",
    "\n",
    "4. Tabla \"taxi\": Esta tabla almacena información detallada sobre los taxis, incluyendo la placa, clase, marca, año de fabricación, categoría y tipo de taxi. Tiene una columna \"id_taxi\" como clave primaria, que es un identificador único para cada taxi. Además, tiene columnas como \"placa\", \"id_clase\", \"id_marca\", \"ano_fabricacion\", \"id_categoria\" e \"id_tipo_taxi\" que son claves foráneas que hacen referencia a las tablas \"clase\", \"marca\", \"categoria\" y \"tipo_taxi\", respectivamente.\n",
    "\n",
    "5. Tabla \"taxi_stg\": Esta tabla es uns tabla de almacenamiento temporal que contiene información similar a la tabla \"taxi\". Tiene una columna \"id\" como clave primaria, y las columnas \"placa\", \"clase\", \"marca\", \"ano_fabricacion\", \"categoria\" y \"tipo_taxi\".\n",
    "\n",
    "6. Tabla \"tipo_taxi\": Aquí se guarda información sobre los tipos de taxis. Tiene una columna \"id_tipo_taxi\" como clave primaria, que es un identificador único para cada tipo de taxi, y una columna \"descripcion_tipo_taxi\" que describe el tipo de taxi.\n",
    "\n",
    "¿Cómo están relacionadas las tablas entre sí?\n",
    "\n",
    "Las relaciones entre las tablas se establecen mediante claves foráneas. Esto significa que las columnas en la tabla \"taxi\" que corresponden a \"id_clase\", \"id_marca\", \"id_categoria\" e \"id_tipo_taxi\" hacen referencia a los registros en las tablas \"clase\", \"marca\", \"categoria\" y \"tipo_taxi\", respectivamente, utilizando sus claves primarias. Estas relaciones permiten vincular la información en las tablas y realizar consultas que involucren datos de múltiples tablas.\n",
    "\n",
    "### 2. Proceso de Extracción y Limpieza:\n",
    "\n",
    "¿Cómo se realiza la extracción de datos desde el archivo Excel hacia un DataFrame de pandas?\n",
    "\n",
    "Para extraer datos desde un archivo Excel hacia un DataFrame de pandas, se utilpza la función read_excel()\n",
    "\n",
    "¿Qué criterios se utilizaron para limpiar los datos innecesarios en la tabla taxi_stg?\n",
    "\n",
    "Los criterios que se utilizan para limpiar la data stg, son los siguientes, elimina registros donde categoria tenga la frase,categoria sin registrar, elimina en manrca lo que tenga marca no registrada y eliminara el tippo de taxi, que este como Noid\n",
    "\n",
    "\n",
    "### 3.Inserción de Datos:\n",
    "\n",
    "¿Cuáles son los pasos específicos para insertar datos en la tabla taxi_stg desde el DataFrame de pandas?\n",
    "\n",
    "Primero se crea la conexion con la base, en este caso con las librerias mysql.connector y pymysql.\n",
    "Despues aqui usamos la tabla stg para almacenarlos datos de nuestro exel, se usa sentencias para sacar valores unicos.\n",
    "Despues usamos el insert para guardar los datos del stg a las tablas de nuestra base.\n",
    "Cerrar la conexión a la base de datos: No te olvides de cerrar la conexión una vez que hayas terminado de insertar los datos.\n",
    "\n",
    "¿Cómo se manejan los datos duplicados o los valores inconsistentes durante la inserción?\n",
    "\n",
    "En este caso se usa el distinc y se usan los valores unicos, eliminamios los datos inconsistentes y intentamos tener claves unicas.\n",
    "\n",
    "### 4.Obtención y Asignación de Valores Distintos:\n",
    "\n",
    "¿Cómo se obtienen y asignan los valores distintos de las columnas categoria, tipo_taxi, clase y marca a sus respectivas tablas?\n",
    "Se utiliza una consulta SQL para obtener los valores distintos de cada columna. Por ejemplo, para obtener los valores distintos de la columna categoria de la tabla taxi_stg\n",
    "\n",
    "Después de obtener los valores distintos, puedes insertarlos en las tablas categoria, tipo_taxi, clase y marca utilizando instrucciones INSERT. Por ejemplo, para insertar un nuevo valor en la tabla categoria\n",
    "\n",
    "\n",
    "\n",
    "### 5.Relación de Datos y Carga Final:\n",
    "\n",
    "¿Cómo se establecen las relaciones entre las tablas taxi_stg, clase, marca, categoria, tipo_taxi y taxi?\n",
    "\n",
    "Primero se llenan las tablas foraneas y luego se relacionan con la tabla taxi con sus respectivos id\n",
    "\n",
    "¿Cuál es el proceso final para cargar los datos en la tabla taxi?\n",
    "\n",
    "unado un iner join una ves tengamos todo lo nesario\n",
    "\n"
   ]
  },
  {
   "cell_type": "markdown",
   "id": "059649fe",
   "metadata": {},
   "source": [
    "# PARTE 2. LECTURA DE DATOS DESDE LA BASE DE DATOS Y VISUALIZACIÓN DE DATOS\n",
    "### Objetivos:\n",
    "##### Extraer los datos desde la base de Datos\n",
    "##### Análisis Exploratorio Efectivo: Enseñar técnicas fundamentales de análisis exploratorio de datos, incluida la identificación y manejo de valores faltantes, así como la exploración de estadísticas descriptivas, para obtener una comprensión inicial de los conjuntos de datos.\n",
    "##### Visualización Impactante: Introducir conceptos clave de visualización de datos utilizando Matplotlib y Seaborn, y explorar la integración de \"PowerClient - Quick Report\" para generar visualizaciones impactantes que resalten patrones y tendencias de manera clara y efectiva."
   ]
  },
  {
   "cell_type": "markdown",
   "id": "8df6ecac",
   "metadata": {},
   "source": [
    "### 1: Importación de librerías"
   ]
  },
  {
   "cell_type": "code",
   "execution_count": 98,
   "id": "62003766-a331-447f-8c25-167710cbc799",
   "metadata": {},
   "outputs": [],
   "source": [
    "# pip install mysql.connector"
   ]
  },
  {
   "cell_type": "code",
   "execution_count": 99,
   "id": "67d94d96",
   "metadata": {},
   "outputs": [],
   "source": [
    "import pandas as pd\n",
    "import mysql.connector\n",
    "import pandas as pd"
   ]
  },
  {
   "cell_type": "markdown",
   "id": "5e9e1006",
   "metadata": {},
   "source": [
    "### 2: Cargar los datos"
   ]
  },
  {
   "cell_type": "code",
   "execution_count": 101,
   "id": "ad0181c8-ff52-4390-b42f-0ec38e1cc794",
   "metadata": {},
   "outputs": [],
   "source": [
    "def establecer_conexion(host, user, password, database):\n",
    "    try:\n",
    "        conexion = mysql.connector.connect(\n",
    "            host=host,\n",
    "            user=user,\n",
    "            password=password,\n",
    "            database=database\n",
    "        )\n",
    "        return conexion\n",
    "    except mysql.connector.Error as err:\n",
    "        print(f\"Error: {err}\")\n",
    "        return None\n",
    "\n",
    "            \n",
    "def obtener_valores_taxi(conexion):\n",
    "    try:\n",
    "        with conexion.cursor() as cursor:\n",
    "            select_query = '''\n",
    "            SELECT * from taxi_stg;\n",
    "            '''\n",
    "            cursor.execute(select_query)\n",
    "            values = cursor.fetchall()\n",
    "            return tuple(values)\n",
    "\n",
    "    except Exception as e:\n",
    "        print(f\"Error al obtener valores distintos: {e}\")\n",
    "        return []\n",
    "\n",
    "            \n",
    "def cerrar_conexion(conexion):\n",
    "    if conexion:\n",
    "        conexion.close()\n"
   ]
  },
  {
   "cell_type": "code",
   "execution_count": 106,
   "id": "64dbede8-910c-4004-8743-1df7926ac200",
   "metadata": {},
   "outputs": [
    {
     "data": {
      "text/plain": [
       "True"
      ]
     },
     "execution_count": 106,
     "metadata": {},
     "output_type": "execute_result"
    }
   ],
   "source": [
    "conexion = establecer_conexion(\"localhost\", \"root\", \"\", \"taxis_prueba\")\n",
    "conexion.is_connected()"
   ]
  },
  {
   "cell_type": "code",
   "execution_count": null,
   "id": "9e928dca-a055-4962-9e4f-189112ca4ce2",
   "metadata": {},
   "outputs": [],
   "source": [
    "datos_taxi=obtener_valores_taxi(conexion)"
   ]
  },
  {
   "cell_type": "code",
   "execution_count": null,
   "id": "fad39b2d-b84b-4f8f-b5af-1e0398fe10c2",
   "metadata": {},
   "outputs": [],
   "source": [
    "# Convertir la tupla en un DataFrame\n",
    "columnas = ['Id','Placa', 'Clase', 'Marca', 'Año', 'Categoría', 'Tipo taxi']\n",
    "df = pd.DataFrame(datos_taxi, columns=columnas)"
   ]
  },
  {
   "cell_type": "code",
   "execution_count": null,
   "id": "3d46334d-b95f-4cab-bd80-76bfdfc250c3",
   "metadata": {},
   "outputs": [],
   "source": [
    "df"
   ]
  },
  {
   "cell_type": "code",
   "execution_count": null,
   "id": "e35c0253",
   "metadata": {},
   "outputs": [],
   "source": [
    "# Eliminar la columna 'Id'\n",
    "df = df.drop('Id', axis=1)"
   ]
  },
  {
   "cell_type": "markdown",
   "id": "7d68b5b5",
   "metadata": {},
   "source": [
    "### 3: Librería Y-Data Profiling\n",
    "https://docs.profiling.ydata.ai/4.6/ "
   ]
  },
  {
   "cell_type": "code",
   "execution_count": null,
   "id": "e81334df",
   "metadata": {},
   "outputs": [],
   "source": [
    "from ydata_profiling import ProfileReport"
   ]
  },
  {
   "cell_type": "code",
   "execution_count": null,
   "id": "20a173e5",
   "metadata": {},
   "outputs": [],
   "source": [
    "profile=ProfileReport(df,title=\"Análisis de datos\")\n"
   ]
  },
  {
   "cell_type": "code",
   "execution_count": null,
   "id": "34d62654",
   "metadata": {},
   "outputs": [],
   "source": [
    "profile"
   ]
  },
  {
   "cell_type": "markdown",
   "id": "bffe82c9",
   "metadata": {},
   "source": [
    "### 4: Librería sweetviz"
   ]
  },
  {
   "cell_type": "code",
   "execution_count": null,
   "id": "b207d160",
   "metadata": {},
   "outputs": [],
   "source": [
    "import sweetviz as sv"
   ]
  },
  {
   "cell_type": "code",
   "execution_count": null,
   "id": "272aee3c",
   "metadata": {},
   "outputs": [],
   "source": [
    "advert_report=sv.analyze([df,\"Reporte DATOS\"])"
   ]
  },
  {
   "cell_type": "code",
   "execution_count": null,
   "id": "d7354ffe",
   "metadata": {},
   "outputs": [],
   "source": [
    "advert_report.show_html()"
   ]
  },
  {
   "cell_type": "markdown",
   "id": "554e608b-858f-4b46-b726-0e6815416624",
   "metadata": {},
   "source": [
    "###  5: Librería Power Bi"
   ]
  },
  {
   "cell_type": "code",
   "execution_count": null,
   "id": "ada2888a-afe0-4e45-8d10-4c2e3221bdfa",
   "metadata": {},
   "outputs": [],
   "source": [
    "#pip install powerbiclient"
   ]
  },
  {
   "cell_type": "code",
   "execution_count": null,
   "id": "cca388db-f5a9-4499-9b45-4e6439da3cd1",
   "metadata": {},
   "outputs": [],
   "source": [
    "from powerbiclient import QuickVisualize, get_dataset_config"
   ]
  },
  {
   "cell_type": "code",
   "execution_count": null,
   "id": "462ec345-a56b-49cb-ae12-276727570189",
   "metadata": {},
   "outputs": [],
   "source": [
    "# Import the DeviceCodeLoginAuthentication class to authenticate against Power BI\n",
    "from powerbiclient.authentication import DeviceCodeLoginAuthentication\n",
    "    \n",
    "# Initiate device authentication\n",
    "device_auth = DeviceCodeLoginAuthentication()"
   ]
  },
  {
   "cell_type": "code",
   "execution_count": null,
   "id": "b44af508-5789-4ed8-b71d-8721f9956308",
   "metadata": {},
   "outputs": [],
   "source": [
    "# Create a Power BI report from your data\n",
    "PBI_visualize = QuickVisualize(get_dataset_config(df), auth=device_auth)\n",
    "\n",
    "# Render new report\n",
    "PBI_visualize"
   ]
  },
  {
   "cell_type": "markdown",
   "id": "009baa0b-e4b9-41e2-a41b-3231cb1a70b1",
   "metadata": {},
   "source": [
    "## 6: Preguntas\n",
    "\n",
    "### 6.1. Extracción de Datos:\n",
    "\n",
    "Describe el proceso de extracción de datos desde la base de datos MySQL. \n",
    "\n",
    "¿Qué consulta SQL se utiliza para obtener los datos de la tabla taxi_stg?\n",
    "\n",
    "### 6.2. Visualización con Y-Data Profiling:\n",
    "\n",
    "Basándote en el informe de Y-Data Profiling, ¿qué información relevante se destaca sobre el conjunto de datos? ¿Cómo interpretarías los resultados del análisis?\n",
    "\n",
    "### 6.3. Visualización con Sweetviz:\n",
    "\n",
    "¿Cuáles son las principales visualizaciones proporcionadas por Sweetviz? ¿Puedes identificar patrones o tendencias interesantes en el conjunto de datos?\n",
    "\n",
    "### 6.4. Visualización con Power BI:\n",
    "\n",
    "Explica el proceso de autenticación utilizado para conectar Python a Power BI. ¿Cómo se genera y visualiza el informe en Power BI utilizando el conjunto de datos?\n",
    "\n",
    "### 6.5. Comparación de Librerías:\n",
    "\n",
    "¿Cuáles son las diferencias clave entre Y-Data Profiling, Sweetviz y Power BI en términos de funcionalidad y visualización? ¿En qué situaciones específicas podrías preferir una sobre la otra?\n",
    "\n",
    "### 6.6. Ejercicio de extracción de la tabla taxi con sus relaciones:\n",
    "\n",
    "Realiza la exportación de los datos de la tabla taxi y sus relaciones y modela el dataframe similar al dado.\n",
    "\n"
   ]
  },
  {
   "cell_type": "code",
   "execution_count": null,
   "id": "00a17bd2-51dd-4a86-af1e-d0cb2355593f",
   "metadata": {},
   "outputs": [],
   "source": []
  }
 ],
 "metadata": {
  "kernelspec": {
   "display_name": "Python 3 (ipykernel)",
   "language": "python",
   "name": "python3"
  },
  "language_info": {
   "codemirror_mode": {
    "name": "ipython",
    "version": 3
   },
   "file_extension": ".py",
   "mimetype": "text/x-python",
   "name": "python",
   "nbconvert_exporter": "python",
   "pygments_lexer": "ipython3",
   "version": "3.11.7"
  }
 },
 "nbformat": 4,
 "nbformat_minor": 5
}
